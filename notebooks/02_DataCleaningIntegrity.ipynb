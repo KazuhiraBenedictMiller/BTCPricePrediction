{
 "cells": [
  {
   "cell_type": "markdown",
   "id": "9308926f-4538-4ddd-b831-b930f4672d63",
   "metadata": {},
   "source": [
    "# Data Cleaning and Wrangling"
   ]
  },
  {
   "cell_type": "markdown",
   "id": "a1f5ea31-2378-4a8f-8f22-ef02e5a4eb91",
   "metadata": {},
   "source": [
    "# Let's check the Data for Inconsistencies"
   ]
  },
  {
   "cell_type": "code",
   "execution_count": 1,
   "id": "584b82c8-f478-4221-9b53-0a3dd9e34ee6",
   "metadata": {
    "tags": []
   },
   "outputs": [],
   "source": [
    "#Let's Check Data Consistency and see if there are any Missing Values or Inconsistencies"
   ]
  },
  {
   "cell_type": "markdown",
   "id": "ff8e8ad2-c716-47d3-8128-7e7f14140a8b",
   "metadata": {},
   "source": [
    "# Importing necessary libraries"
   ]
  },
  {
   "cell_type": "code",
   "execution_count": 2,
   "id": "616e387a-502a-4f29-bd7d-fbae2a0abd47",
   "metadata": {
    "tags": []
   },
   "outputs": [],
   "source": [
    "import pandas as pd\n",
    "\n",
    "import requests\n",
    "\n",
    "from datetime import datetime, timedelta, timezone\n",
    "import time\n",
    "import ntplib\n",
    "\n",
    "import sys\n",
    "sys.path.append(\"../scripts/\")\n",
    "import path"
   ]
  },
  {
   "cell_type": "markdown",
   "id": "bf92a2b5-5ef9-4b84-b6a9-4f8663a41655",
   "metadata": {},
   "source": [
    "# Getting Curent Date"
   ]
  },
  {
   "cell_type": "code",
   "execution_count": 3,
   "id": "1001d939-7b91-4fba-aafe-a73ceb8edb1e",
   "metadata": {
    "tags": []
   },
   "outputs": [
    {
     "name": "stdout",
     "output_type": "stream",
     "text": [
      "2024-01-10 23:00:00\n"
     ]
    }
   ],
   "source": [
    "#.replace(hour=0, minute=0, second=0) <- Used to make the Time from yesterday at 23, to gather all Data until Yesterday INCLUDED.\n",
    "\n",
    "#On Server with working clock\n",
    "#yesterday = (datetime.now() - timedelta(days=1)).replace(hour=0, minute=0, second=0).strftime(\"%Y-%m-%d %H:%M:%S\")\n",
    "\n",
    "#Getting Actual Data from the Internet for Server with messy clock\n",
    "try:\n",
    "    client = ntplib.NTPClient()\n",
    "    response = client.request('pool.ntp.org')\n",
    "    yesterday = (datetime.fromtimestamp(response.tx_time, tz=timezone.utc) - timedelta(days=1)).replace(hour=23, minute=0, second=0).strftime(\"%Y-%m-%d %H:%M:%S\")\n",
    "    print(yesterday)\n",
    "\n",
    "except:\n",
    "    print(\"Could not sync with time server.\")"
   ]
  },
  {
   "cell_type": "code",
   "execution_count": 4,
   "id": "f43df719-29b4-422f-9272-e9b8b6024e2a",
   "metadata": {
    "tags": []
   },
   "outputs": [],
   "source": [
    "startdate = (datetime.strptime(yesterday, \"%Y-%m-%d %H:%M:%S\") - timedelta(weeks=108)).replace(hour=0, minute=0, second=0)\n",
    "enddate = datetime.strptime(yesterday, \"%Y-%m-%d %H:%M:%S\").replace(hour=23, minute=0, second=0)"
   ]
  },
  {
   "cell_type": "markdown",
   "id": "16fc14c2-20b7-4d8b-b242-47932be9de6d",
   "metadata": {},
   "source": [
    "# Importing Raw Data"
   ]
  },
  {
   "cell_type": "code",
   "execution_count": 5,
   "id": "da4ec555-c26e-4958-91b1-b9b210d1b522",
   "metadata": {
    "tags": []
   },
   "outputs": [
    {
     "data": {
      "text/html": [
       "<div>\n",
       "<style scoped>\n",
       "    .dataframe tbody tr th:only-of-type {\n",
       "        vertical-align: middle;\n",
       "    }\n",
       "\n",
       "    .dataframe tbody tr th {\n",
       "        vertical-align: top;\n",
       "    }\n",
       "\n",
       "    .dataframe thead th {\n",
       "        text-align: right;\n",
       "    }\n",
       "</style>\n",
       "<table border=\"1\" class=\"dataframe\">\n",
       "  <thead>\n",
       "    <tr style=\"text-align: right;\">\n",
       "      <th></th>\n",
       "      <th>Date</th>\n",
       "      <th>Open</th>\n",
       "      <th>High</th>\n",
       "      <th>Low</th>\n",
       "      <th>Close</th>\n",
       "      <th>Volume</th>\n",
       "    </tr>\n",
       "  </thead>\n",
       "  <tbody>\n",
       "    <tr>\n",
       "      <th>298</th>\n",
       "      <td>2021-12-14 00:00:00+00:00</td>\n",
       "      <td>46300.00</td>\n",
       "      <td>47243.18</td>\n",
       "      <td>46727.89</td>\n",
       "      <td>47022.75</td>\n",
       "      <td>870.201420</td>\n",
       "    </tr>\n",
       "    <tr>\n",
       "      <th>297</th>\n",
       "      <td>2021-12-14 01:00:00+00:00</td>\n",
       "      <td>46607.90</td>\n",
       "      <td>47128.52</td>\n",
       "      <td>47018.78</td>\n",
       "      <td>46889.47</td>\n",
       "      <td>559.425978</td>\n",
       "    </tr>\n",
       "    <tr>\n",
       "      <th>296</th>\n",
       "      <td>2021-12-14 02:00:00+00:00</td>\n",
       "      <td>46700.26</td>\n",
       "      <td>47081.39</td>\n",
       "      <td>46899.17</td>\n",
       "      <td>47052.39</td>\n",
       "      <td>466.226036</td>\n",
       "    </tr>\n",
       "    <tr>\n",
       "      <th>295</th>\n",
       "      <td>2021-12-14 03:00:00+00:00</td>\n",
       "      <td>46782.86</td>\n",
       "      <td>47130.37</td>\n",
       "      <td>47052.39</td>\n",
       "      <td>46977.81</td>\n",
       "      <td>328.500181</td>\n",
       "    </tr>\n",
       "    <tr>\n",
       "      <th>294</th>\n",
       "      <td>2021-12-14 04:00:00+00:00</td>\n",
       "      <td>46890.12</td>\n",
       "      <td>47207.92</td>\n",
       "      <td>46977.80</td>\n",
       "      <td>47017.01</td>\n",
       "      <td>519.013109</td>\n",
       "    </tr>\n",
       "    <tr>\n",
       "      <th>...</th>\n",
       "      <td>...</td>\n",
       "      <td>...</td>\n",
       "      <td>...</td>\n",
       "      <td>...</td>\n",
       "      <td>...</td>\n",
       "      <td>...</td>\n",
       "    </tr>\n",
       "    <tr>\n",
       "      <th>17940</th>\n",
       "      <td>2024-01-09 19:00:00+00:00</td>\n",
       "      <td>46589.25</td>\n",
       "      <td>46903.46</td>\n",
       "      <td>46658.71</td>\n",
       "      <td>46890.10</td>\n",
       "      <td>653.207706</td>\n",
       "    </tr>\n",
       "    <tr>\n",
       "      <th>17939</th>\n",
       "      <td>2024-01-09 20:00:00+00:00</td>\n",
       "      <td>46593.78</td>\n",
       "      <td>46940.00</td>\n",
       "      <td>46888.27</td>\n",
       "      <td>46651.31</td>\n",
       "      <td>1086.527743</td>\n",
       "    </tr>\n",
       "    <tr>\n",
       "      <th>17938</th>\n",
       "      <td>2024-01-09 21:00:00+00:00</td>\n",
       "      <td>44701.54</td>\n",
       "      <td>47901.00</td>\n",
       "      <td>46649.39</td>\n",
       "      <td>45419.45</td>\n",
       "      <td>8919.956620</td>\n",
       "    </tr>\n",
       "    <tr>\n",
       "      <th>17937</th>\n",
       "      <td>2024-01-09 22:00:00+00:00</td>\n",
       "      <td>45275.03</td>\n",
       "      <td>46286.39</td>\n",
       "      <td>45420.10</td>\n",
       "      <td>46278.06</td>\n",
       "      <td>1915.366592</td>\n",
       "    </tr>\n",
       "    <tr>\n",
       "      <th>17936</th>\n",
       "      <td>2024-01-09 23:00:00+00:00</td>\n",
       "      <td>45933.43</td>\n",
       "      <td>46276.18</td>\n",
       "      <td>46272.94</td>\n",
       "      <td>46124.08</td>\n",
       "      <td>913.480062</td>\n",
       "    </tr>\n",
       "  </tbody>\n",
       "</table>\n",
       "<p>18224 rows × 6 columns</p>\n",
       "</div>"
      ],
      "text/plain": [
       "                           Date      Open      High       Low     Close  \\\n",
       "298   2021-12-14 00:00:00+00:00  46300.00  47243.18  46727.89  47022.75   \n",
       "297   2021-12-14 01:00:00+00:00  46607.90  47128.52  47018.78  46889.47   \n",
       "296   2021-12-14 02:00:00+00:00  46700.26  47081.39  46899.17  47052.39   \n",
       "295   2021-12-14 03:00:00+00:00  46782.86  47130.37  47052.39  46977.81   \n",
       "294   2021-12-14 04:00:00+00:00  46890.12  47207.92  46977.80  47017.01   \n",
       "...                         ...       ...       ...       ...       ...   \n",
       "17940 2024-01-09 19:00:00+00:00  46589.25  46903.46  46658.71  46890.10   \n",
       "17939 2024-01-09 20:00:00+00:00  46593.78  46940.00  46888.27  46651.31   \n",
       "17938 2024-01-09 21:00:00+00:00  44701.54  47901.00  46649.39  45419.45   \n",
       "17937 2024-01-09 22:00:00+00:00  45275.03  46286.39  45420.10  46278.06   \n",
       "17936 2024-01-09 23:00:00+00:00  45933.43  46276.18  46272.94  46124.08   \n",
       "\n",
       "            Volume  \n",
       "298     870.201420  \n",
       "297     559.425978  \n",
       "296     466.226036  \n",
       "295     328.500181  \n",
       "294     519.013109  \n",
       "...            ...  \n",
       "17940   653.207706  \n",
       "17939  1086.527743  \n",
       "17938  8919.956620  \n",
       "17937  1915.366592  \n",
       "17936   913.480062  \n",
       "\n",
       "[18224 rows x 6 columns]"
      ]
     },
     "execution_count": 5,
     "metadata": {},
     "output_type": "execute_result"
    }
   ],
   "source": [
    "RawData = pd.read_parquet(path.RAW_DATA_DIR / \"BTC-USD_HourlyRawData_From2021-12-14 00:00:00_To2024-01-09 23:00:00.parquet\")\n",
    "\n",
    "RawData"
   ]
  },
  {
   "cell_type": "code",
   "execution_count": 6,
   "id": "57fa1337-20fa-4a0d-841a-69181e79efe3",
   "metadata": {
    "tags": []
   },
   "outputs": [],
   "source": [
    "#Cloning the DF for transformations\n",
    "\n",
    "TransformedData = RawData.copy()"
   ]
  },
  {
   "cell_type": "markdown",
   "id": "83a69f11-f6ab-404a-97cb-c325c1afd1fe",
   "metadata": {
    "tags": []
   },
   "source": [
    "# The WebAPI isn't consistent, as also described in the docs, we'll need to make a couple of checks."
   ]
  },
  {
   "cell_type": "code",
   "execution_count": 7,
   "id": "fde99026-4833-489e-ab24-de501d2e3637",
   "metadata": {
    "tags": []
   },
   "outputs": [],
   "source": [
    "#Docs at https://docs.cloud.coinbase.com/exchange/reference/exchangerestapi_getproductcandles"
   ]
  },
  {
   "cell_type": "markdown",
   "id": "1b7ba82a-44f6-4f1e-ac45-5252ef4016b0",
   "metadata": {
    "tags": []
   },
   "source": [
    "# Checking if the First Value and Last Value are at the Start and End Dates"
   ]
  },
  {
   "cell_type": "code",
   "execution_count": 8,
   "id": "00232eea-69d8-4e02-8003-60d32d5d82ae",
   "metadata": {
    "tags": []
   },
   "outputs": [
    {
     "name": "stdout",
     "output_type": "stream",
     "text": [
      "False\n",
      "False\n"
     ]
    }
   ],
   "source": [
    "print(startdate.replace(tzinfo=timezone.utc) == TransformedData[\"Date\"].iloc[0])\n",
    "print(enddate.replace(tzinfo=timezone.utc) == TransformedData[\"Date\"].iloc[-1])"
   ]
  },
  {
   "cell_type": "markdown",
   "id": "7ed5e2ab-b5b1-4ad3-9a20-0de9a8ec784a",
   "metadata": {},
   "source": [
    "# Checking for Duplicates"
   ]
  },
  {
   "cell_type": "code",
   "execution_count": 9,
   "id": "b78aab70-11e9-4564-9c91-20e79dec030c",
   "metadata": {
    "tags": []
   },
   "outputs": [
    {
     "name": "stdout",
     "output_type": "stream",
     "text": [
      "0       2021-12-26 10:00:00+00:00\n",
      "299     2022-01-07 20:00:00+00:00\n",
      "1195    2022-01-20 06:00:00+00:00\n",
      "1494    2022-02-01 16:00:00+00:00\n",
      "1793    2022-02-14 02:00:00+00:00\n",
      "1495    2022-02-26 12:00:00+00:00\n",
      "1794    2022-03-10 22:00:00+00:00\n",
      "2690    2022-03-23 08:00:00+00:00\n",
      "2392    2022-04-04 18:00:00+00:00\n",
      "3288    2022-04-17 04:00:00+00:00\n",
      "2990    2022-04-29 14:00:00+00:00\n",
      "3289    2022-05-12 00:00:00+00:00\n",
      "4185    2022-05-24 10:00:00+00:00\n",
      "4484    2022-06-05 20:00:00+00:00\n",
      "4783    2022-06-18 06:00:00+00:00\n",
      "5082    2022-06-30 16:00:00+00:00\n",
      "5381    2022-07-13 02:00:00+00:00\n",
      "5680    2022-07-25 12:00:00+00:00\n",
      "5979    2022-08-06 22:00:00+00:00\n",
      "6278    2022-08-19 08:00:00+00:00\n",
      "5980    2022-08-31 18:00:00+00:00\n",
      "6876    2022-09-13 04:00:00+00:00\n",
      "7175    2022-09-25 14:00:00+00:00\n",
      "7474    2022-10-08 00:00:00+00:00\n",
      "7773    2022-10-20 10:00:00+00:00\n",
      "7475    2022-11-01 20:00:00+00:00\n",
      "7774    2022-11-14 06:00:00+00:00\n",
      "8670    2022-11-26 16:00:00+00:00\n",
      "8969    2022-12-09 02:00:00+00:00\n",
      "9268    2022-12-21 12:00:00+00:00\n",
      "9567    2023-01-02 22:00:00+00:00\n",
      "9269    2023-01-15 08:00:00+00:00\n",
      "10165   2023-01-27 18:00:00+00:00\n",
      "9867    2023-02-09 04:00:00+00:00\n",
      "10166   2023-02-21 14:00:00+00:00\n",
      "11058   2023-03-06 00:00:00+00:00\n",
      "10760   2023-03-18 10:00:00+00:00\n",
      "11656   2023-03-30 20:00:00+00:00\n",
      "11358   2023-04-12 06:00:00+00:00\n",
      "12254   2023-04-24 16:00:00+00:00\n",
      "12553   2023-05-07 02:00:00+00:00\n",
      "12852   2023-05-19 12:00:00+00:00\n",
      "13151   2023-05-31 22:00:00+00:00\n",
      "12853   2023-06-13 08:00:00+00:00\n",
      "13749   2023-06-25 18:00:00+00:00\n",
      "14048   2023-07-08 04:00:00+00:00\n",
      "14347   2023-07-20 14:00:00+00:00\n",
      "14646   2023-08-02 00:00:00+00:00\n",
      "14348   2023-08-14 10:00:00+00:00\n",
      "15244   2023-08-26 20:00:00+00:00\n",
      "14946   2023-09-08 06:00:00+00:00\n",
      "15842   2023-09-20 16:00:00+00:00\n",
      "15544   2023-10-03 02:00:00+00:00\n",
      "15843   2023-10-15 12:00:00+00:00\n",
      "16142   2023-10-27 22:00:00+00:00\n",
      "16441   2023-11-09 08:00:00+00:00\n",
      "17337   2023-11-21 18:00:00+00:00\n",
      "17636   2023-12-04 04:00:00+00:00\n",
      "17935   2023-12-16 14:00:00+00:00\n",
      "17637   2023-12-29 00:00:00+00:00\n",
      "Name: Date, dtype: datetime64[ns, UTC]\n"
     ]
    }
   ],
   "source": [
    "Duplicates = TransformedData.loc[TransformedData.duplicated() == True]\n",
    "Duplicates\n",
    "\n",
    "print(Duplicates[\"Date\"])"
   ]
  },
  {
   "cell_type": "code",
   "execution_count": 10,
   "id": "1deb8b16-f6fd-4afa-82d2-886e2263e34f",
   "metadata": {
    "tags": []
   },
   "outputs": [
    {
     "name": "stdout",
     "output_type": "stream",
     "text": [
      "At Net of Duplicates the Len of the Records is: 18164\n"
     ]
    }
   ],
   "source": [
    "print(f'At Net of Duplicates the Len of the Records is: {len(RawData) - len(RawData.loc[RawData.duplicated() == True])}')"
   ]
  },
  {
   "cell_type": "code",
   "execution_count": 11,
   "id": "4f678556-6643-4feb-9f31-b53c77907ef2",
   "metadata": {
    "tags": []
   },
   "outputs": [
    {
     "data": {
      "text/html": [
       "<div>\n",
       "<style scoped>\n",
       "    .dataframe tbody tr th:only-of-type {\n",
       "        vertical-align: middle;\n",
       "    }\n",
       "\n",
       "    .dataframe tbody tr th {\n",
       "        vertical-align: top;\n",
       "    }\n",
       "\n",
       "    .dataframe thead th {\n",
       "        text-align: right;\n",
       "    }\n",
       "</style>\n",
       "<table border=\"1\" class=\"dataframe\">\n",
       "  <thead>\n",
       "    <tr style=\"text-align: right;\">\n",
       "      <th></th>\n",
       "      <th>Date</th>\n",
       "      <th>Open</th>\n",
       "      <th>High</th>\n",
       "      <th>Low</th>\n",
       "      <th>Close</th>\n",
       "      <th>Volume</th>\n",
       "    </tr>\n",
       "  </thead>\n",
       "  <tbody>\n",
       "    <tr>\n",
       "      <th>298</th>\n",
       "      <td>2021-12-14 00:00:00+00:00</td>\n",
       "      <td>46300.00</td>\n",
       "      <td>47243.18</td>\n",
       "      <td>46727.89</td>\n",
       "      <td>47022.75</td>\n",
       "      <td>870.201420</td>\n",
       "    </tr>\n",
       "    <tr>\n",
       "      <th>297</th>\n",
       "      <td>2021-12-14 01:00:00+00:00</td>\n",
       "      <td>46607.90</td>\n",
       "      <td>47128.52</td>\n",
       "      <td>47018.78</td>\n",
       "      <td>46889.47</td>\n",
       "      <td>559.425978</td>\n",
       "    </tr>\n",
       "    <tr>\n",
       "      <th>296</th>\n",
       "      <td>2021-12-14 02:00:00+00:00</td>\n",
       "      <td>46700.26</td>\n",
       "      <td>47081.39</td>\n",
       "      <td>46899.17</td>\n",
       "      <td>47052.39</td>\n",
       "      <td>466.226036</td>\n",
       "    </tr>\n",
       "    <tr>\n",
       "      <th>295</th>\n",
       "      <td>2021-12-14 03:00:00+00:00</td>\n",
       "      <td>46782.86</td>\n",
       "      <td>47130.37</td>\n",
       "      <td>47052.39</td>\n",
       "      <td>46977.81</td>\n",
       "      <td>328.500181</td>\n",
       "    </tr>\n",
       "    <tr>\n",
       "      <th>294</th>\n",
       "      <td>2021-12-14 04:00:00+00:00</td>\n",
       "      <td>46890.12</td>\n",
       "      <td>47207.92</td>\n",
       "      <td>46977.80</td>\n",
       "      <td>47017.01</td>\n",
       "      <td>519.013109</td>\n",
       "    </tr>\n",
       "    <tr>\n",
       "      <th>...</th>\n",
       "      <td>...</td>\n",
       "      <td>...</td>\n",
       "      <td>...</td>\n",
       "      <td>...</td>\n",
       "      <td>...</td>\n",
       "      <td>...</td>\n",
       "    </tr>\n",
       "    <tr>\n",
       "      <th>17940</th>\n",
       "      <td>2024-01-09 19:00:00+00:00</td>\n",
       "      <td>46589.25</td>\n",
       "      <td>46903.46</td>\n",
       "      <td>46658.71</td>\n",
       "      <td>46890.10</td>\n",
       "      <td>653.207706</td>\n",
       "    </tr>\n",
       "    <tr>\n",
       "      <th>17939</th>\n",
       "      <td>2024-01-09 20:00:00+00:00</td>\n",
       "      <td>46593.78</td>\n",
       "      <td>46940.00</td>\n",
       "      <td>46888.27</td>\n",
       "      <td>46651.31</td>\n",
       "      <td>1086.527743</td>\n",
       "    </tr>\n",
       "    <tr>\n",
       "      <th>17938</th>\n",
       "      <td>2024-01-09 21:00:00+00:00</td>\n",
       "      <td>44701.54</td>\n",
       "      <td>47901.00</td>\n",
       "      <td>46649.39</td>\n",
       "      <td>45419.45</td>\n",
       "      <td>8919.956620</td>\n",
       "    </tr>\n",
       "    <tr>\n",
       "      <th>17937</th>\n",
       "      <td>2024-01-09 22:00:00+00:00</td>\n",
       "      <td>45275.03</td>\n",
       "      <td>46286.39</td>\n",
       "      <td>45420.10</td>\n",
       "      <td>46278.06</td>\n",
       "      <td>1915.366592</td>\n",
       "    </tr>\n",
       "    <tr>\n",
       "      <th>17936</th>\n",
       "      <td>2024-01-09 23:00:00+00:00</td>\n",
       "      <td>45933.43</td>\n",
       "      <td>46276.18</td>\n",
       "      <td>46272.94</td>\n",
       "      <td>46124.08</td>\n",
       "      <td>913.480062</td>\n",
       "    </tr>\n",
       "  </tbody>\n",
       "</table>\n",
       "<p>18164 rows × 6 columns</p>\n",
       "</div>"
      ],
      "text/plain": [
       "                           Date      Open      High       Low     Close  \\\n",
       "298   2021-12-14 00:00:00+00:00  46300.00  47243.18  46727.89  47022.75   \n",
       "297   2021-12-14 01:00:00+00:00  46607.90  47128.52  47018.78  46889.47   \n",
       "296   2021-12-14 02:00:00+00:00  46700.26  47081.39  46899.17  47052.39   \n",
       "295   2021-12-14 03:00:00+00:00  46782.86  47130.37  47052.39  46977.81   \n",
       "294   2021-12-14 04:00:00+00:00  46890.12  47207.92  46977.80  47017.01   \n",
       "...                         ...       ...       ...       ...       ...   \n",
       "17940 2024-01-09 19:00:00+00:00  46589.25  46903.46  46658.71  46890.10   \n",
       "17939 2024-01-09 20:00:00+00:00  46593.78  46940.00  46888.27  46651.31   \n",
       "17938 2024-01-09 21:00:00+00:00  44701.54  47901.00  46649.39  45419.45   \n",
       "17937 2024-01-09 22:00:00+00:00  45275.03  46286.39  45420.10  46278.06   \n",
       "17936 2024-01-09 23:00:00+00:00  45933.43  46276.18  46272.94  46124.08   \n",
       "\n",
       "            Volume  \n",
       "298     870.201420  \n",
       "297     559.425978  \n",
       "296     466.226036  \n",
       "295     328.500181  \n",
       "294     519.013109  \n",
       "...            ...  \n",
       "17940   653.207706  \n",
       "17939  1086.527743  \n",
       "17938  8919.956620  \n",
       "17937  1915.366592  \n",
       "17936   913.480062  \n",
       "\n",
       "[18164 rows x 6 columns]"
      ]
     },
     "execution_count": 11,
     "metadata": {},
     "output_type": "execute_result"
    }
   ],
   "source": [
    "#Removing Duplicates\n",
    "\n",
    "TransformedData.drop_duplicates(keep=\"first\", inplace = True)\n",
    "TransformedData"
   ]
  },
  {
   "cell_type": "markdown",
   "id": "e5398234-1bff-4012-a705-5f9b20f138ba",
   "metadata": {},
   "source": [
    "# Checking for Missing Values"
   ]
  },
  {
   "cell_type": "code",
   "execution_count": 12,
   "id": "1f618b74-8d3a-4fb5-8446-3b91ca252664",
   "metadata": {
    "tags": []
   },
   "outputs": [
    {
     "name": "stdout",
     "output_type": "stream",
     "text": [
      "Total Hours Elapsed (Expected Num of Candles): 18168.0\n"
     ]
    }
   ],
   "source": [
    "diff = enddate - startdate\n",
    "\n",
    "print(f'Total Hours Elapsed (Expected Num of Candles): {diff.total_seconds() //3600 + 1}') # +1 as the last Candle is Included"
   ]
  },
  {
   "cell_type": "code",
   "execution_count": 13,
   "id": "4daa97ea-23cd-4b4e-893a-98f2accec848",
   "metadata": {
    "tags": []
   },
   "outputs": [
    {
     "name": "stdout",
     "output_type": "stream",
     "text": [
      "Number of Missing Candles: 4.0\n"
     ]
    }
   ],
   "source": [
    "print(f'Number of Missing Candles: {(diff.total_seconds() //3600) + 1 - len(TransformedData)}') # +1 as the last Candle is Included"
   ]
  },
  {
   "cell_type": "markdown",
   "id": "893436bc-8e54-4ccc-8c91-90acf5129a35",
   "metadata": {},
   "source": [
    "# Retrieving Missing Data Dates and Filling it with with a Doji Candle (Same Close as Previous Candle and same Open High Low Close Prices)"
   ]
  },
  {
   "cell_type": "code",
   "execution_count": 14,
   "id": "9c8a84f1-74fa-4200-ae5f-905a1ec75387",
   "metadata": {
    "tags": []
   },
   "outputs": [],
   "source": [
    "Dates = list(TransformedData[\"Date\"])\n",
    "Missing = []\n",
    "\n",
    "testdate = Dates[0]\n",
    "\n",
    "while testdate <= Dates[-1]:\n",
    "    if testdate not in Dates:\n",
    "        Missing.append(testdate)\n",
    "        \n",
    "    testdate += timedelta(hours=1)"
   ]
  },
  {
   "cell_type": "code",
   "execution_count": 15,
   "id": "78549a2f-0268-42f2-a441-02ce91533f66",
   "metadata": {
    "tags": []
   },
   "outputs": [
    {
     "data": {
      "text/plain": [
       "[Timestamp('2023-03-04 17:00:00+0000', tz='UTC'),\n",
       " Timestamp('2023-03-04 18:00:00+0000', tz='UTC'),\n",
       " Timestamp('2023-03-04 19:00:00+0000', tz='UTC'),\n",
       " Timestamp('2023-03-04 20:00:00+0000', tz='UTC')]"
      ]
     },
     "execution_count": 15,
     "metadata": {},
     "output_type": "execute_result"
    }
   ],
   "source": [
    "Missing"
   ]
  },
  {
   "cell_type": "code",
   "execution_count": 16,
   "id": "cf409755-a2da-4575-8972-604a8a02c0c2",
   "metadata": {
    "tags": []
   },
   "outputs": [],
   "source": [
    "RecordToCopy = TransformedData[TransformedData[\"Date\"] == Missing[0] - timedelta(hours=1)]"
   ]
  },
  {
   "cell_type": "code",
   "execution_count": 17,
   "id": "c74c65c9-ae31-483c-8032-b4b2cfe36019",
   "metadata": {
    "tags": []
   },
   "outputs": [],
   "source": [
    "templist = [[x, RecordToCopy.iloc[0][\"Close\"], RecordToCopy.iloc[0][\"Close\"], RecordToCopy.iloc[0][\"Close\"], RecordToCopy.iloc[0][\"Close\"],RecordToCopy.iloc[0][\"Volume\"]] for x in Missing]\n",
    "tempdf = pd.DataFrame(templist, columns=[\"Date\", \"Open\", \"High\", \"Low\", \"Close\", \"Volume\"])\n",
    "\n",
    "TransformedData = pd.concat([TransformedData, tempdf])"
   ]
  },
  {
   "cell_type": "code",
   "execution_count": 18,
   "id": "5c84dd50-026d-4b6e-8f8d-8c4469304e48",
   "metadata": {
    "tags": []
   },
   "outputs": [
    {
     "data": {
      "text/html": [
       "<div>\n",
       "<style scoped>\n",
       "    .dataframe tbody tr th:only-of-type {\n",
       "        vertical-align: middle;\n",
       "    }\n",
       "\n",
       "    .dataframe tbody tr th {\n",
       "        vertical-align: top;\n",
       "    }\n",
       "\n",
       "    .dataframe thead th {\n",
       "        text-align: right;\n",
       "    }\n",
       "</style>\n",
       "<table border=\"1\" class=\"dataframe\">\n",
       "  <thead>\n",
       "    <tr style=\"text-align: right;\">\n",
       "      <th></th>\n",
       "      <th>Date</th>\n",
       "      <th>Open</th>\n",
       "      <th>High</th>\n",
       "      <th>Low</th>\n",
       "      <th>Close</th>\n",
       "      <th>Volume</th>\n",
       "    </tr>\n",
       "  </thead>\n",
       "  <tbody>\n",
       "    <tr>\n",
       "      <th>298</th>\n",
       "      <td>2021-12-14 00:00:00+00:00</td>\n",
       "      <td>46300.00</td>\n",
       "      <td>47243.18</td>\n",
       "      <td>46727.89</td>\n",
       "      <td>47022.75</td>\n",
       "      <td>870.201420</td>\n",
       "    </tr>\n",
       "    <tr>\n",
       "      <th>297</th>\n",
       "      <td>2021-12-14 01:00:00+00:00</td>\n",
       "      <td>46607.90</td>\n",
       "      <td>47128.52</td>\n",
       "      <td>47018.78</td>\n",
       "      <td>46889.47</td>\n",
       "      <td>559.425978</td>\n",
       "    </tr>\n",
       "    <tr>\n",
       "      <th>296</th>\n",
       "      <td>2021-12-14 02:00:00+00:00</td>\n",
       "      <td>46700.26</td>\n",
       "      <td>47081.39</td>\n",
       "      <td>46899.17</td>\n",
       "      <td>47052.39</td>\n",
       "      <td>466.226036</td>\n",
       "    </tr>\n",
       "    <tr>\n",
       "      <th>295</th>\n",
       "      <td>2021-12-14 03:00:00+00:00</td>\n",
       "      <td>46782.86</td>\n",
       "      <td>47130.37</td>\n",
       "      <td>47052.39</td>\n",
       "      <td>46977.81</td>\n",
       "      <td>328.500181</td>\n",
       "    </tr>\n",
       "    <tr>\n",
       "      <th>294</th>\n",
       "      <td>2021-12-14 04:00:00+00:00</td>\n",
       "      <td>46890.12</td>\n",
       "      <td>47207.92</td>\n",
       "      <td>46977.80</td>\n",
       "      <td>47017.01</td>\n",
       "      <td>519.013109</td>\n",
       "    </tr>\n",
       "    <tr>\n",
       "      <th>...</th>\n",
       "      <td>...</td>\n",
       "      <td>...</td>\n",
       "      <td>...</td>\n",
       "      <td>...</td>\n",
       "      <td>...</td>\n",
       "      <td>...</td>\n",
       "    </tr>\n",
       "    <tr>\n",
       "      <th>17936</th>\n",
       "      <td>2024-01-09 23:00:00+00:00</td>\n",
       "      <td>45933.43</td>\n",
       "      <td>46276.18</td>\n",
       "      <td>46272.94</td>\n",
       "      <td>46124.08</td>\n",
       "      <td>913.480062</td>\n",
       "    </tr>\n",
       "    <tr>\n",
       "      <th>0</th>\n",
       "      <td>2023-03-04 17:00:00+00:00</td>\n",
       "      <td>22330.27</td>\n",
       "      <td>22330.27</td>\n",
       "      <td>22330.27</td>\n",
       "      <td>22330.27</td>\n",
       "      <td>31.413194</td>\n",
       "    </tr>\n",
       "    <tr>\n",
       "      <th>1</th>\n",
       "      <td>2023-03-04 18:00:00+00:00</td>\n",
       "      <td>22330.27</td>\n",
       "      <td>22330.27</td>\n",
       "      <td>22330.27</td>\n",
       "      <td>22330.27</td>\n",
       "      <td>31.413194</td>\n",
       "    </tr>\n",
       "    <tr>\n",
       "      <th>2</th>\n",
       "      <td>2023-03-04 19:00:00+00:00</td>\n",
       "      <td>22330.27</td>\n",
       "      <td>22330.27</td>\n",
       "      <td>22330.27</td>\n",
       "      <td>22330.27</td>\n",
       "      <td>31.413194</td>\n",
       "    </tr>\n",
       "    <tr>\n",
       "      <th>3</th>\n",
       "      <td>2023-03-04 20:00:00+00:00</td>\n",
       "      <td>22330.27</td>\n",
       "      <td>22330.27</td>\n",
       "      <td>22330.27</td>\n",
       "      <td>22330.27</td>\n",
       "      <td>31.413194</td>\n",
       "    </tr>\n",
       "  </tbody>\n",
       "</table>\n",
       "<p>18168 rows × 6 columns</p>\n",
       "</div>"
      ],
      "text/plain": [
       "                           Date      Open      High       Low     Close  \\\n",
       "298   2021-12-14 00:00:00+00:00  46300.00  47243.18  46727.89  47022.75   \n",
       "297   2021-12-14 01:00:00+00:00  46607.90  47128.52  47018.78  46889.47   \n",
       "296   2021-12-14 02:00:00+00:00  46700.26  47081.39  46899.17  47052.39   \n",
       "295   2021-12-14 03:00:00+00:00  46782.86  47130.37  47052.39  46977.81   \n",
       "294   2021-12-14 04:00:00+00:00  46890.12  47207.92  46977.80  47017.01   \n",
       "...                         ...       ...       ...       ...       ...   \n",
       "17936 2024-01-09 23:00:00+00:00  45933.43  46276.18  46272.94  46124.08   \n",
       "0     2023-03-04 17:00:00+00:00  22330.27  22330.27  22330.27  22330.27   \n",
       "1     2023-03-04 18:00:00+00:00  22330.27  22330.27  22330.27  22330.27   \n",
       "2     2023-03-04 19:00:00+00:00  22330.27  22330.27  22330.27  22330.27   \n",
       "3     2023-03-04 20:00:00+00:00  22330.27  22330.27  22330.27  22330.27   \n",
       "\n",
       "           Volume  \n",
       "298    870.201420  \n",
       "297    559.425978  \n",
       "296    466.226036  \n",
       "295    328.500181  \n",
       "294    519.013109  \n",
       "...           ...  \n",
       "17936  913.480062  \n",
       "0       31.413194  \n",
       "1       31.413194  \n",
       "2       31.413194  \n",
       "3       31.413194  \n",
       "\n",
       "[18168 rows x 6 columns]"
      ]
     },
     "execution_count": 18,
     "metadata": {},
     "output_type": "execute_result"
    }
   ],
   "source": [
    "TransformedData"
   ]
  },
  {
   "cell_type": "code",
   "execution_count": 19,
   "id": "53afeaa5-412b-49f9-ade3-3523add762cf",
   "metadata": {
    "tags": []
   },
   "outputs": [
    {
     "data": {
      "text/html": [
       "<div>\n",
       "<style scoped>\n",
       "    .dataframe tbody tr th:only-of-type {\n",
       "        vertical-align: middle;\n",
       "    }\n",
       "\n",
       "    .dataframe tbody tr th {\n",
       "        vertical-align: top;\n",
       "    }\n",
       "\n",
       "    .dataframe thead th {\n",
       "        text-align: right;\n",
       "    }\n",
       "</style>\n",
       "<table border=\"1\" class=\"dataframe\">\n",
       "  <thead>\n",
       "    <tr style=\"text-align: right;\">\n",
       "      <th></th>\n",
       "      <th>Date</th>\n",
       "      <th>Open</th>\n",
       "      <th>High</th>\n",
       "      <th>Low</th>\n",
       "      <th>Close</th>\n",
       "      <th>Volume</th>\n",
       "    </tr>\n",
       "  </thead>\n",
       "  <tbody>\n",
       "    <tr>\n",
       "      <th>298</th>\n",
       "      <td>2021-12-14 00:00:00+00:00</td>\n",
       "      <td>46300.00</td>\n",
       "      <td>47243.18</td>\n",
       "      <td>46727.89</td>\n",
       "      <td>47022.75</td>\n",
       "      <td>870.201420</td>\n",
       "    </tr>\n",
       "    <tr>\n",
       "      <th>297</th>\n",
       "      <td>2021-12-14 01:00:00+00:00</td>\n",
       "      <td>46607.90</td>\n",
       "      <td>47128.52</td>\n",
       "      <td>47018.78</td>\n",
       "      <td>46889.47</td>\n",
       "      <td>559.425978</td>\n",
       "    </tr>\n",
       "    <tr>\n",
       "      <th>296</th>\n",
       "      <td>2021-12-14 02:00:00+00:00</td>\n",
       "      <td>46700.26</td>\n",
       "      <td>47081.39</td>\n",
       "      <td>46899.17</td>\n",
       "      <td>47052.39</td>\n",
       "      <td>466.226036</td>\n",
       "    </tr>\n",
       "    <tr>\n",
       "      <th>295</th>\n",
       "      <td>2021-12-14 03:00:00+00:00</td>\n",
       "      <td>46782.86</td>\n",
       "      <td>47130.37</td>\n",
       "      <td>47052.39</td>\n",
       "      <td>46977.81</td>\n",
       "      <td>328.500181</td>\n",
       "    </tr>\n",
       "    <tr>\n",
       "      <th>294</th>\n",
       "      <td>2021-12-14 04:00:00+00:00</td>\n",
       "      <td>46890.12</td>\n",
       "      <td>47207.92</td>\n",
       "      <td>46977.80</td>\n",
       "      <td>47017.01</td>\n",
       "      <td>519.013109</td>\n",
       "    </tr>\n",
       "    <tr>\n",
       "      <th>...</th>\n",
       "      <td>...</td>\n",
       "      <td>...</td>\n",
       "      <td>...</td>\n",
       "      <td>...</td>\n",
       "      <td>...</td>\n",
       "      <td>...</td>\n",
       "    </tr>\n",
       "    <tr>\n",
       "      <th>17940</th>\n",
       "      <td>2024-01-09 19:00:00+00:00</td>\n",
       "      <td>46589.25</td>\n",
       "      <td>46903.46</td>\n",
       "      <td>46658.71</td>\n",
       "      <td>46890.10</td>\n",
       "      <td>653.207706</td>\n",
       "    </tr>\n",
       "    <tr>\n",
       "      <th>17939</th>\n",
       "      <td>2024-01-09 20:00:00+00:00</td>\n",
       "      <td>46593.78</td>\n",
       "      <td>46940.00</td>\n",
       "      <td>46888.27</td>\n",
       "      <td>46651.31</td>\n",
       "      <td>1086.527743</td>\n",
       "    </tr>\n",
       "    <tr>\n",
       "      <th>17938</th>\n",
       "      <td>2024-01-09 21:00:00+00:00</td>\n",
       "      <td>44701.54</td>\n",
       "      <td>47901.00</td>\n",
       "      <td>46649.39</td>\n",
       "      <td>45419.45</td>\n",
       "      <td>8919.956620</td>\n",
       "    </tr>\n",
       "    <tr>\n",
       "      <th>17937</th>\n",
       "      <td>2024-01-09 22:00:00+00:00</td>\n",
       "      <td>45275.03</td>\n",
       "      <td>46286.39</td>\n",
       "      <td>45420.10</td>\n",
       "      <td>46278.06</td>\n",
       "      <td>1915.366592</td>\n",
       "    </tr>\n",
       "    <tr>\n",
       "      <th>17936</th>\n",
       "      <td>2024-01-09 23:00:00+00:00</td>\n",
       "      <td>45933.43</td>\n",
       "      <td>46276.18</td>\n",
       "      <td>46272.94</td>\n",
       "      <td>46124.08</td>\n",
       "      <td>913.480062</td>\n",
       "    </tr>\n",
       "  </tbody>\n",
       "</table>\n",
       "<p>18168 rows × 6 columns</p>\n",
       "</div>"
      ],
      "text/plain": [
       "                           Date      Open      High       Low     Close  \\\n",
       "298   2021-12-14 00:00:00+00:00  46300.00  47243.18  46727.89  47022.75   \n",
       "297   2021-12-14 01:00:00+00:00  46607.90  47128.52  47018.78  46889.47   \n",
       "296   2021-12-14 02:00:00+00:00  46700.26  47081.39  46899.17  47052.39   \n",
       "295   2021-12-14 03:00:00+00:00  46782.86  47130.37  47052.39  46977.81   \n",
       "294   2021-12-14 04:00:00+00:00  46890.12  47207.92  46977.80  47017.01   \n",
       "...                         ...       ...       ...       ...       ...   \n",
       "17940 2024-01-09 19:00:00+00:00  46589.25  46903.46  46658.71  46890.10   \n",
       "17939 2024-01-09 20:00:00+00:00  46593.78  46940.00  46888.27  46651.31   \n",
       "17938 2024-01-09 21:00:00+00:00  44701.54  47901.00  46649.39  45419.45   \n",
       "17937 2024-01-09 22:00:00+00:00  45275.03  46286.39  45420.10  46278.06   \n",
       "17936 2024-01-09 23:00:00+00:00  45933.43  46276.18  46272.94  46124.08   \n",
       "\n",
       "            Volume  \n",
       "298     870.201420  \n",
       "297     559.425978  \n",
       "296     466.226036  \n",
       "295     328.500181  \n",
       "294     519.013109  \n",
       "...            ...  \n",
       "17940   653.207706  \n",
       "17939  1086.527743  \n",
       "17938  8919.956620  \n",
       "17937  1915.366592  \n",
       "17936   913.480062  \n",
       "\n",
       "[18168 rows x 6 columns]"
      ]
     },
     "execution_count": 19,
     "metadata": {},
     "output_type": "execute_result"
    }
   ],
   "source": [
    "#Sort Again for new Values\n",
    "TransformedData = TransformedData.sort_values(by=\"Date\")\n",
    "TransformedData"
   ]
  },
  {
   "cell_type": "markdown",
   "id": "499c7dcc-49f9-4c1e-a863-926091cb83bc",
   "metadata": {},
   "source": [
    "# Dropping Useless Columns"
   ]
  },
  {
   "cell_type": "code",
   "execution_count": 20,
   "id": "1ff2400e-d412-472d-b54f-e096e033dfc5",
   "metadata": {
    "tags": []
   },
   "outputs": [],
   "source": [
    "#For the sake of simplicity in Model Design, we'll just use Closing Prices and treat it as a Pure Time-Series"
   ]
  },
  {
   "cell_type": "code",
   "execution_count": 21,
   "id": "db5f99df-2bb8-4db2-aabd-1d2adcc902a9",
   "metadata": {
    "tags": []
   },
   "outputs": [],
   "source": [
    "TransformedData.drop([\"Open\", \"High\", \"Low\", \"Volume\"], axis=1, inplace=True)"
   ]
  },
  {
   "cell_type": "code",
   "execution_count": 22,
   "id": "6b5faaf8-0c94-48d1-80d2-bca311673180",
   "metadata": {
    "tags": []
   },
   "outputs": [
    {
     "data": {
      "text/html": [
       "<div>\n",
       "<style scoped>\n",
       "    .dataframe tbody tr th:only-of-type {\n",
       "        vertical-align: middle;\n",
       "    }\n",
       "\n",
       "    .dataframe tbody tr th {\n",
       "        vertical-align: top;\n",
       "    }\n",
       "\n",
       "    .dataframe thead th {\n",
       "        text-align: right;\n",
       "    }\n",
       "</style>\n",
       "<table border=\"1\" class=\"dataframe\">\n",
       "  <thead>\n",
       "    <tr style=\"text-align: right;\">\n",
       "      <th></th>\n",
       "      <th>Date</th>\n",
       "      <th>Close</th>\n",
       "    </tr>\n",
       "  </thead>\n",
       "  <tbody>\n",
       "    <tr>\n",
       "      <th>298</th>\n",
       "      <td>2021-12-14 00:00:00+00:00</td>\n",
       "      <td>47022.75</td>\n",
       "    </tr>\n",
       "    <tr>\n",
       "      <th>297</th>\n",
       "      <td>2021-12-14 01:00:00+00:00</td>\n",
       "      <td>46889.47</td>\n",
       "    </tr>\n",
       "    <tr>\n",
       "      <th>296</th>\n",
       "      <td>2021-12-14 02:00:00+00:00</td>\n",
       "      <td>47052.39</td>\n",
       "    </tr>\n",
       "    <tr>\n",
       "      <th>295</th>\n",
       "      <td>2021-12-14 03:00:00+00:00</td>\n",
       "      <td>46977.81</td>\n",
       "    </tr>\n",
       "    <tr>\n",
       "      <th>294</th>\n",
       "      <td>2021-12-14 04:00:00+00:00</td>\n",
       "      <td>47017.01</td>\n",
       "    </tr>\n",
       "    <tr>\n",
       "      <th>...</th>\n",
       "      <td>...</td>\n",
       "      <td>...</td>\n",
       "    </tr>\n",
       "    <tr>\n",
       "      <th>17940</th>\n",
       "      <td>2024-01-09 19:00:00+00:00</td>\n",
       "      <td>46890.10</td>\n",
       "    </tr>\n",
       "    <tr>\n",
       "      <th>17939</th>\n",
       "      <td>2024-01-09 20:00:00+00:00</td>\n",
       "      <td>46651.31</td>\n",
       "    </tr>\n",
       "    <tr>\n",
       "      <th>17938</th>\n",
       "      <td>2024-01-09 21:00:00+00:00</td>\n",
       "      <td>45419.45</td>\n",
       "    </tr>\n",
       "    <tr>\n",
       "      <th>17937</th>\n",
       "      <td>2024-01-09 22:00:00+00:00</td>\n",
       "      <td>46278.06</td>\n",
       "    </tr>\n",
       "    <tr>\n",
       "      <th>17936</th>\n",
       "      <td>2024-01-09 23:00:00+00:00</td>\n",
       "      <td>46124.08</td>\n",
       "    </tr>\n",
       "  </tbody>\n",
       "</table>\n",
       "<p>18168 rows × 2 columns</p>\n",
       "</div>"
      ],
      "text/plain": [
       "                           Date     Close\n",
       "298   2021-12-14 00:00:00+00:00  47022.75\n",
       "297   2021-12-14 01:00:00+00:00  46889.47\n",
       "296   2021-12-14 02:00:00+00:00  47052.39\n",
       "295   2021-12-14 03:00:00+00:00  46977.81\n",
       "294   2021-12-14 04:00:00+00:00  47017.01\n",
       "...                         ...       ...\n",
       "17940 2024-01-09 19:00:00+00:00  46890.10\n",
       "17939 2024-01-09 20:00:00+00:00  46651.31\n",
       "17938 2024-01-09 21:00:00+00:00  45419.45\n",
       "17937 2024-01-09 22:00:00+00:00  46278.06\n",
       "17936 2024-01-09 23:00:00+00:00  46124.08\n",
       "\n",
       "[18168 rows x 2 columns]"
      ]
     },
     "execution_count": 22,
     "metadata": {},
     "output_type": "execute_result"
    }
   ],
   "source": [
    "TransformedData"
   ]
  },
  {
   "cell_type": "markdown",
   "id": "d742d3de-0564-4d54-9f20-311c41702bf0",
   "metadata": {},
   "source": [
    "# Dumping Cleaned Data to Disk"
   ]
  },
  {
   "cell_type": "code",
   "execution_count": 30,
   "id": "3dc560de-9119-4901-b4a7-b7bbfea00b56",
   "metadata": {
    "tags": []
   },
   "outputs": [],
   "source": [
    "start = (TransformedData[\"Date\"].iloc[0])\n",
    "finish = (TransformedData[\"Date\"].iloc[-1])\n",
    "product_id = \"BTC-USD\"\n",
    "\n",
    "TransformedData.to_parquet(path.TRANSFORMED_DATA_DIR / f'{product_id}_HourlyTransformedData_From{start}_To{finish}.parquet')"
   ]
  }
 ],
 "metadata": {
  "kernelspec": {
   "display_name": "btcpricepredictionvenv",
   "language": "python",
   "name": "btcpricepredictionvenv"
  },
  "language_info": {
   "codemirror_mode": {
    "name": "ipython",
    "version": 3
   },
   "file_extension": ".py",
   "mimetype": "text/x-python",
   "name": "python",
   "nbconvert_exporter": "python",
   "pygments_lexer": "ipython3",
   "version": "3.11.2"
  }
 },
 "nbformat": 4,
 "nbformat_minor": 5
}
