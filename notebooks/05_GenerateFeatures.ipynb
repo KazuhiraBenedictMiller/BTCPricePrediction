{
 "cells": [
  {
   "cell_type": "markdown",
   "id": "42aee873-bf22-4305-9547-d9f88ec97ca0",
   "metadata": {},
   "source": [
    "# Setting up and Backfilling MariaDB"
   ]
  },
  {
   "cell_type": "code",
   "execution_count": 1,
   "id": "30a1ea5f-69bc-4960-9bfa-217191a24428",
   "metadata": {
    "tags": []
   },
   "outputs": [],
   "source": [
    "#Let's Generate our Features for Modeling which will also be stored in a Feature Store"
   ]
  },
  {
   "cell_type": "markdown",
   "id": "9ceb161c-7331-4ca1-a528-4b3aacbacd38",
   "metadata": {},
   "source": [
    "# Importing necessary libraries"
   ]
  },
  {
   "cell_type": "code",
   "execution_count": 2,
   "id": "457dbde0-6c6d-4d35-b2a1-618c694c9023",
   "metadata": {
    "tags": []
   },
   "outputs": [],
   "source": [
    "import pandas as pd\n",
    "\n",
    "from datetime import datetime\n",
    "\n",
    "import sys\n",
    "sys.path.append(\"../scripts/\")\n",
    "\n",
    "import path"
   ]
  },
  {
   "cell_type": "markdown",
   "id": "116480e0-6b9c-4bdd-9205-88c478acddaf",
   "metadata": {},
   "source": [
    "# Importing Transformed Data"
   ]
  },
  {
   "cell_type": "code",
   "execution_count": 3,
   "id": "6c2ac6cb-1e9e-4205-9100-d37062665ee8",
   "metadata": {
    "tags": []
   },
   "outputs": [
    {
     "data": {
      "text/html": [
       "<div>\n",
       "<style scoped>\n",
       "    .dataframe tbody tr th:only-of-type {\n",
       "        vertical-align: middle;\n",
       "    }\n",
       "\n",
       "    .dataframe tbody tr th {\n",
       "        vertical-align: top;\n",
       "    }\n",
       "\n",
       "    .dataframe thead th {\n",
       "        text-align: right;\n",
       "    }\n",
       "</style>\n",
       "<table border=\"1\" class=\"dataframe\">\n",
       "  <thead>\n",
       "    <tr style=\"text-align: right;\">\n",
       "      <th></th>\n",
       "      <th>Date</th>\n",
       "      <th>Close</th>\n",
       "    </tr>\n",
       "  </thead>\n",
       "  <tbody>\n",
       "    <tr>\n",
       "      <th>298</th>\n",
       "      <td>2021-12-14 00:00:00+00:00</td>\n",
       "      <td>47022.75</td>\n",
       "    </tr>\n",
       "    <tr>\n",
       "      <th>297</th>\n",
       "      <td>2021-12-14 01:00:00+00:00</td>\n",
       "      <td>46889.47</td>\n",
       "    </tr>\n",
       "    <tr>\n",
       "      <th>296</th>\n",
       "      <td>2021-12-14 02:00:00+00:00</td>\n",
       "      <td>47052.39</td>\n",
       "    </tr>\n",
       "    <tr>\n",
       "      <th>295</th>\n",
       "      <td>2021-12-14 03:00:00+00:00</td>\n",
       "      <td>46977.81</td>\n",
       "    </tr>\n",
       "    <tr>\n",
       "      <th>294</th>\n",
       "      <td>2021-12-14 04:00:00+00:00</td>\n",
       "      <td>47017.01</td>\n",
       "    </tr>\n",
       "    <tr>\n",
       "      <th>...</th>\n",
       "      <td>...</td>\n",
       "      <td>...</td>\n",
       "    </tr>\n",
       "    <tr>\n",
       "      <th>17940</th>\n",
       "      <td>2024-01-09 19:00:00+00:00</td>\n",
       "      <td>46890.10</td>\n",
       "    </tr>\n",
       "    <tr>\n",
       "      <th>17939</th>\n",
       "      <td>2024-01-09 20:00:00+00:00</td>\n",
       "      <td>46651.31</td>\n",
       "    </tr>\n",
       "    <tr>\n",
       "      <th>17938</th>\n",
       "      <td>2024-01-09 21:00:00+00:00</td>\n",
       "      <td>45419.45</td>\n",
       "    </tr>\n",
       "    <tr>\n",
       "      <th>17937</th>\n",
       "      <td>2024-01-09 22:00:00+00:00</td>\n",
       "      <td>46278.06</td>\n",
       "    </tr>\n",
       "    <tr>\n",
       "      <th>17936</th>\n",
       "      <td>2024-01-09 23:00:00+00:00</td>\n",
       "      <td>46124.08</td>\n",
       "    </tr>\n",
       "  </tbody>\n",
       "</table>\n",
       "<p>18168 rows × 2 columns</p>\n",
       "</div>"
      ],
      "text/plain": [
       "                           Date     Close\n",
       "298   2021-12-14 00:00:00+00:00  47022.75\n",
       "297   2021-12-14 01:00:00+00:00  46889.47\n",
       "296   2021-12-14 02:00:00+00:00  47052.39\n",
       "295   2021-12-14 03:00:00+00:00  46977.81\n",
       "294   2021-12-14 04:00:00+00:00  47017.01\n",
       "...                         ...       ...\n",
       "17940 2024-01-09 19:00:00+00:00  46890.10\n",
       "17939 2024-01-09 20:00:00+00:00  46651.31\n",
       "17938 2024-01-09 21:00:00+00:00  45419.45\n",
       "17937 2024-01-09 22:00:00+00:00  46278.06\n",
       "17936 2024-01-09 23:00:00+00:00  46124.08\n",
       "\n",
       "[18168 rows x 2 columns]"
      ]
     },
     "execution_count": 3,
     "metadata": {},
     "output_type": "execute_result"
    }
   ],
   "source": [
    "CleanData = pd.read_parquet(path.TRANSFORMED_DATA_DIR / \"BTC-USD_HourlyTransformedData_From2021-12-14 00:00:00+00:00_To2024-01-09 23:00:00+00:00.parquet\")\n",
    "\n",
    "CleanData"
   ]
  },
  {
   "cell_type": "markdown",
   "id": "7c465b69-0316-4429-9444-fd48cae29ab3",
   "metadata": {},
   "source": [
    "# Generating Features"
   ]
  },
  {
   "cell_type": "code",
   "execution_count": 4,
   "id": "f0dd39a9-8098-4b6a-88bf-6ed0d6bb7d4b",
   "metadata": {
    "tags": []
   },
   "outputs": [],
   "source": [
    "#As Features, again for the sake of semplicity in Modeling, we are going to use the Last 2 Weeks of Prices to Predict the Next One"
   ]
  },
  {
   "cell_type": "code",
   "execution_count": 5,
   "id": "4df4bf6a-1adb-4b35-b712-d1dd20e7b820",
   "metadata": {
    "tags": []
   },
   "outputs": [],
   "source": [
    "HoursTwoWeeks = 24*7*2"
   ]
  },
  {
   "cell_type": "code",
   "execution_count": 6,
   "id": "69f144e4-a847-478d-86d4-81cc5e77f822",
   "metadata": {
    "tags": []
   },
   "outputs": [],
   "source": [
    "#Generating Columns for FeaturesDF\n",
    "cols = [f'Close_{x}_Hours_Ago' for x in range(1, HoursTwoWeeks+1)]\n",
    "cols.reverse()\n",
    "cols.append(\"ActualClose\")\n",
    "cols.append(\"ActualDate\")"
   ]
  },
  {
   "cell_type": "code",
   "execution_count": 7,
   "id": "436b14c4-4af2-495c-a24d-f99b7f7aae89",
   "metadata": {
    "tags": []
   },
   "outputs": [],
   "source": [
    "#Generating Values for FeaturesDF\n",
    "#[[i for i in prices[x-HoursTwoWeeks-1:x]] for x in range(HoursTwoWeeks+1, len(prices))]\n",
    "\n",
    "vals = []\n",
    "prices = list(CleanData[\"Close\"])\n",
    "dates = list(CleanData[\"Date\"])\n",
    "\n",
    "for x in range(HoursTwoWeeks+1, len(prices)):\n",
    "    featurevals = [i for i in prices[x-HoursTwoWeeks-1:x]]\n",
    "    featurevals.append(dates[x])\n",
    "    vals.append(featurevals)"
   ]
  },
  {
   "cell_type": "code",
   "execution_count": 8,
   "id": "a916ac3e-c39e-4f95-b6f6-fd70e5d45bc9",
   "metadata": {
    "tags": []
   },
   "outputs": [],
   "source": [
    "FeaturesDF = pd.DataFrame(data=vals, columns=cols)"
   ]
  },
  {
   "cell_type": "code",
   "execution_count": 9,
   "id": "88b91fed-5746-4954-ada6-a97ed3e9619a",
   "metadata": {
    "tags": []
   },
   "outputs": [
    {
     "data": {
      "text/plain": [
       "Index(['Close_336_Hours_Ago', 'Close_335_Hours_Ago', 'Close_334_Hours_Ago',\n",
       "       'Close_333_Hours_Ago', 'Close_332_Hours_Ago', 'Close_331_Hours_Ago',\n",
       "       'Close_330_Hours_Ago', 'Close_329_Hours_Ago', 'Close_328_Hours_Ago',\n",
       "       'Close_327_Hours_Ago',\n",
       "       ...\n",
       "       'Close_8_Hours_Ago', 'Close_7_Hours_Ago', 'Close_6_Hours_Ago',\n",
       "       'Close_5_Hours_Ago', 'Close_4_Hours_Ago', 'Close_3_Hours_Ago',\n",
       "       'Close_2_Hours_Ago', 'Close_1_Hours_Ago', 'ActualClose', 'ActualDate'],\n",
       "      dtype='object', length=338)"
      ]
     },
     "execution_count": 9,
     "metadata": {},
     "output_type": "execute_result"
    }
   ],
   "source": [
    "FeaturesDF.columns"
   ]
  },
  {
   "cell_type": "code",
   "execution_count": 10,
   "id": "8a313984-4d8e-43fd-b761-fa0b9e9d945f",
   "metadata": {
    "tags": []
   },
   "outputs": [
    {
     "data": {
      "text/html": [
       "<div>\n",
       "<style scoped>\n",
       "    .dataframe tbody tr th:only-of-type {\n",
       "        vertical-align: middle;\n",
       "    }\n",
       "\n",
       "    .dataframe tbody tr th {\n",
       "        vertical-align: top;\n",
       "    }\n",
       "\n",
       "    .dataframe thead th {\n",
       "        text-align: right;\n",
       "    }\n",
       "</style>\n",
       "<table border=\"1\" class=\"dataframe\">\n",
       "  <thead>\n",
       "    <tr style=\"text-align: right;\">\n",
       "      <th></th>\n",
       "      <th>Close_336_Hours_Ago</th>\n",
       "      <th>Close_335_Hours_Ago</th>\n",
       "      <th>Close_334_Hours_Ago</th>\n",
       "      <th>Close_333_Hours_Ago</th>\n",
       "      <th>Close_332_Hours_Ago</th>\n",
       "      <th>Close_331_Hours_Ago</th>\n",
       "      <th>Close_330_Hours_Ago</th>\n",
       "      <th>Close_329_Hours_Ago</th>\n",
       "      <th>Close_328_Hours_Ago</th>\n",
       "      <th>Close_327_Hours_Ago</th>\n",
       "      <th>...</th>\n",
       "      <th>Close_8_Hours_Ago</th>\n",
       "      <th>Close_7_Hours_Ago</th>\n",
       "      <th>Close_6_Hours_Ago</th>\n",
       "      <th>Close_5_Hours_Ago</th>\n",
       "      <th>Close_4_Hours_Ago</th>\n",
       "      <th>Close_3_Hours_Ago</th>\n",
       "      <th>Close_2_Hours_Ago</th>\n",
       "      <th>Close_1_Hours_Ago</th>\n",
       "      <th>ActualClose</th>\n",
       "      <th>ActualDate</th>\n",
       "    </tr>\n",
       "  </thead>\n",
       "  <tbody>\n",
       "    <tr>\n",
       "      <th>17826</th>\n",
       "      <td>42138.37</td>\n",
       "      <td>42099.94</td>\n",
       "      <td>42122.45</td>\n",
       "      <td>42337.53</td>\n",
       "      <td>42471.06</td>\n",
       "      <td>42515.53</td>\n",
       "      <td>42355.70</td>\n",
       "      <td>42459.92</td>\n",
       "      <td>42232.84</td>\n",
       "      <td>42242.60</td>\n",
       "      <td>...</td>\n",
       "      <td>46464.36</td>\n",
       "      <td>46643.78</td>\n",
       "      <td>46193.87</td>\n",
       "      <td>46858.17</td>\n",
       "      <td>46574.36</td>\n",
       "      <td>46876.36</td>\n",
       "      <td>46921.73</td>\n",
       "      <td>46738.77</td>\n",
       "      <td>46657.29</td>\n",
       "      <td>2024-01-09 19:00:00+00:00</td>\n",
       "    </tr>\n",
       "    <tr>\n",
       "      <th>17827</th>\n",
       "      <td>42099.94</td>\n",
       "      <td>42122.45</td>\n",
       "      <td>42337.53</td>\n",
       "      <td>42471.06</td>\n",
       "      <td>42515.53</td>\n",
       "      <td>42355.70</td>\n",
       "      <td>42459.92</td>\n",
       "      <td>42232.84</td>\n",
       "      <td>42242.60</td>\n",
       "      <td>42297.37</td>\n",
       "      <td>...</td>\n",
       "      <td>46643.78</td>\n",
       "      <td>46193.87</td>\n",
       "      <td>46858.17</td>\n",
       "      <td>46574.36</td>\n",
       "      <td>46876.36</td>\n",
       "      <td>46921.73</td>\n",
       "      <td>46738.77</td>\n",
       "      <td>46657.29</td>\n",
       "      <td>46890.10</td>\n",
       "      <td>2024-01-09 20:00:00+00:00</td>\n",
       "    </tr>\n",
       "    <tr>\n",
       "      <th>17828</th>\n",
       "      <td>42122.45</td>\n",
       "      <td>42337.53</td>\n",
       "      <td>42471.06</td>\n",
       "      <td>42515.53</td>\n",
       "      <td>42355.70</td>\n",
       "      <td>42459.92</td>\n",
       "      <td>42232.84</td>\n",
       "      <td>42242.60</td>\n",
       "      <td>42297.37</td>\n",
       "      <td>42454.83</td>\n",
       "      <td>...</td>\n",
       "      <td>46193.87</td>\n",
       "      <td>46858.17</td>\n",
       "      <td>46574.36</td>\n",
       "      <td>46876.36</td>\n",
       "      <td>46921.73</td>\n",
       "      <td>46738.77</td>\n",
       "      <td>46657.29</td>\n",
       "      <td>46890.10</td>\n",
       "      <td>46651.31</td>\n",
       "      <td>2024-01-09 21:00:00+00:00</td>\n",
       "    </tr>\n",
       "    <tr>\n",
       "      <th>17829</th>\n",
       "      <td>42337.53</td>\n",
       "      <td>42471.06</td>\n",
       "      <td>42515.53</td>\n",
       "      <td>42355.70</td>\n",
       "      <td>42459.92</td>\n",
       "      <td>42232.84</td>\n",
       "      <td>42242.60</td>\n",
       "      <td>42297.37</td>\n",
       "      <td>42454.83</td>\n",
       "      <td>42425.66</td>\n",
       "      <td>...</td>\n",
       "      <td>46858.17</td>\n",
       "      <td>46574.36</td>\n",
       "      <td>46876.36</td>\n",
       "      <td>46921.73</td>\n",
       "      <td>46738.77</td>\n",
       "      <td>46657.29</td>\n",
       "      <td>46890.10</td>\n",
       "      <td>46651.31</td>\n",
       "      <td>45419.45</td>\n",
       "      <td>2024-01-09 22:00:00+00:00</td>\n",
       "    </tr>\n",
       "    <tr>\n",
       "      <th>17830</th>\n",
       "      <td>42471.06</td>\n",
       "      <td>42515.53</td>\n",
       "      <td>42355.70</td>\n",
       "      <td>42459.92</td>\n",
       "      <td>42232.84</td>\n",
       "      <td>42242.60</td>\n",
       "      <td>42297.37</td>\n",
       "      <td>42454.83</td>\n",
       "      <td>42425.66</td>\n",
       "      <td>42467.26</td>\n",
       "      <td>...</td>\n",
       "      <td>46574.36</td>\n",
       "      <td>46876.36</td>\n",
       "      <td>46921.73</td>\n",
       "      <td>46738.77</td>\n",
       "      <td>46657.29</td>\n",
       "      <td>46890.10</td>\n",
       "      <td>46651.31</td>\n",
       "      <td>45419.45</td>\n",
       "      <td>46278.06</td>\n",
       "      <td>2024-01-09 23:00:00+00:00</td>\n",
       "    </tr>\n",
       "  </tbody>\n",
       "</table>\n",
       "<p>5 rows × 338 columns</p>\n",
       "</div>"
      ],
      "text/plain": [
       "       Close_336_Hours_Ago  Close_335_Hours_Ago  Close_334_Hours_Ago  \\\n",
       "17826             42138.37             42099.94             42122.45   \n",
       "17827             42099.94             42122.45             42337.53   \n",
       "17828             42122.45             42337.53             42471.06   \n",
       "17829             42337.53             42471.06             42515.53   \n",
       "17830             42471.06             42515.53             42355.70   \n",
       "\n",
       "       Close_333_Hours_Ago  Close_332_Hours_Ago  Close_331_Hours_Ago  \\\n",
       "17826             42337.53             42471.06             42515.53   \n",
       "17827             42471.06             42515.53             42355.70   \n",
       "17828             42515.53             42355.70             42459.92   \n",
       "17829             42355.70             42459.92             42232.84   \n",
       "17830             42459.92             42232.84             42242.60   \n",
       "\n",
       "       Close_330_Hours_Ago  Close_329_Hours_Ago  Close_328_Hours_Ago  \\\n",
       "17826             42355.70             42459.92             42232.84   \n",
       "17827             42459.92             42232.84             42242.60   \n",
       "17828             42232.84             42242.60             42297.37   \n",
       "17829             42242.60             42297.37             42454.83   \n",
       "17830             42297.37             42454.83             42425.66   \n",
       "\n",
       "       Close_327_Hours_Ago  ...  Close_8_Hours_Ago  Close_7_Hours_Ago  \\\n",
       "17826             42242.60  ...           46464.36           46643.78   \n",
       "17827             42297.37  ...           46643.78           46193.87   \n",
       "17828             42454.83  ...           46193.87           46858.17   \n",
       "17829             42425.66  ...           46858.17           46574.36   \n",
       "17830             42467.26  ...           46574.36           46876.36   \n",
       "\n",
       "       Close_6_Hours_Ago  Close_5_Hours_Ago  Close_4_Hours_Ago  \\\n",
       "17826           46193.87           46858.17           46574.36   \n",
       "17827           46858.17           46574.36           46876.36   \n",
       "17828           46574.36           46876.36           46921.73   \n",
       "17829           46876.36           46921.73           46738.77   \n",
       "17830           46921.73           46738.77           46657.29   \n",
       "\n",
       "       Close_3_Hours_Ago  Close_2_Hours_Ago  Close_1_Hours_Ago  ActualClose  \\\n",
       "17826           46876.36           46921.73           46738.77     46657.29   \n",
       "17827           46921.73           46738.77           46657.29     46890.10   \n",
       "17828           46738.77           46657.29           46890.10     46651.31   \n",
       "17829           46657.29           46890.10           46651.31     45419.45   \n",
       "17830           46890.10           46651.31           45419.45     46278.06   \n",
       "\n",
       "                     ActualDate  \n",
       "17826 2024-01-09 19:00:00+00:00  \n",
       "17827 2024-01-09 20:00:00+00:00  \n",
       "17828 2024-01-09 21:00:00+00:00  \n",
       "17829 2024-01-09 22:00:00+00:00  \n",
       "17830 2024-01-09 23:00:00+00:00  \n",
       "\n",
       "[5 rows x 338 columns]"
      ]
     },
     "execution_count": 10,
     "metadata": {},
     "output_type": "execute_result"
    }
   ],
   "source": [
    "FeaturesDF.tail()"
   ]
  },
  {
   "cell_type": "markdown",
   "id": "81795e18-6edd-478e-b321-1099758c289b",
   "metadata": {},
   "source": [
    "# Dumping Features Data to Disk"
   ]
  },
  {
   "cell_type": "code",
   "execution_count": 11,
   "id": "65d02b43-8b75-4ac6-bbf8-08977b16d07b",
   "metadata": {
    "tags": []
   },
   "outputs": [],
   "source": [
    "start = (CleanData[\"Date\"].iloc[0])\n",
    "finish = (CleanData[\"Date\"].iloc[-1])\n",
    "product_id = \"BTC-USD\"\n",
    "\n",
    "FeaturesDF.to_parquet(path.FEATURES_DATA_DIR / f'{product_id}_FeaturesData_From{start}_To{finish}.parquet')"
   ]
  }
 ],
 "metadata": {
  "kernelspec": {
   "display_name": "btcpricepredictionvenv",
   "language": "python",
   "name": "btcpricepredictionvenv"
  },
  "language_info": {
   "codemirror_mode": {
    "name": "ipython",
    "version": 3
   },
   "file_extension": ".py",
   "mimetype": "text/x-python",
   "name": "python",
   "nbconvert_exporter": "python",
   "pygments_lexer": "ipython3",
   "version": "3.11.2"
  }
 },
 "nbformat": 4,
 "nbformat_minor": 5
}
