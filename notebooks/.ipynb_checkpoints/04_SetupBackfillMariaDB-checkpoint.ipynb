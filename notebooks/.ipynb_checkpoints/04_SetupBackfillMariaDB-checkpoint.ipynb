{
 "cells": [
  {
   "cell_type": "markdown",
   "id": "481edd7c-1fc2-4df4-9be4-10bb24b27e00",
   "metadata": {},
   "source": [
    "# Setting up and Backfilling MariaDB"
   ]
  },
  {
   "cell_type": "code",
   "execution_count": 1,
   "id": "246be25e-2f02-4e91-9c6b-2e663f9d97ba",
   "metadata": {
    "tags": []
   },
   "outputs": [],
   "source": [
    "#Let's Setup a MariaDB Database\n",
    "#The Database is going to store all the Clean Transformed Data before it gets turned into Features for Modeling\n",
    "#Nice Practice for Data Versioning and Ensuring Consistency"
   ]
  },
  {
   "cell_type": "markdown",
   "id": "1a2985c7-de7f-4e81-a6fa-884eb73a70da",
   "metadata": {},
   "source": [
    "# Importing necessary libraries"
   ]
  },
  {
   "cell_type": "code",
   "execution_count": 2,
   "id": "b9b1ea96-cee1-4a1a-a285-bdcdded42cd8",
   "metadata": {
    "tags": []
   },
   "outputs": [],
   "source": [
    "import mariadb\n",
    "\n",
    "import pandas as pd\n",
    "\n",
    "from datetime import datetime\n",
    "\n",
    "import sys\n",
    "sys.path.append(\"../scripts/\")\n",
    "\n",
    "import path\n",
    "import secret"
   ]
  },
  {
   "cell_type": "markdown",
   "id": "af124c38-af5a-48c1-ac2f-6dd812e1b5d4",
   "metadata": {},
   "source": [
    "# Connecting to MariaDB Platform (Already Installed and Initialized with an Already Created DB)"
   ]
  },
  {
   "cell_type": "code",
   "execution_count": 3,
   "id": "8e7b3342-af93-4749-ba99-c57b87ea9ab5",
   "metadata": {
    "tags": []
   },
   "outputs": [],
   "source": [
    "# Connect to MariaDB Platform\n",
    "try:\n",
    "    conn = mariadb.connect(\n",
    "        user=secret.MariaDB_User,\n",
    "        password=secret.MariaDB_Password,\n",
    "        host=\"127.0.0.1\", #Local DB\n",
    "        port=3306,\n",
    "        database=secret.MariaDB_Database\n",
    "\n",
    "    )\n",
    "    \n",
    "except mariadb.Error as e:\n",
    "    print(f\"Error connecting to MariaDB Platform: {e}\")\n",
    "    sys.exit(1)"
   ]
  },
  {
   "cell_type": "code",
   "execution_count": 4,
   "id": "f191a1e0-1f4c-4b9e-ace5-91d4b12ff0a9",
   "metadata": {
    "tags": []
   },
   "outputs": [],
   "source": [
    "#Get Cursor\n",
    "cur = conn.cursor()"
   ]
  },
  {
   "cell_type": "markdown",
   "id": "ed55c988-b8c4-4197-bed7-30770265d173",
   "metadata": {},
   "source": [
    "# Importing Transformed Data"
   ]
  },
  {
   "cell_type": "code",
   "execution_count": 5,
   "id": "d52a5f6f-e490-48eb-914e-392c357d5c6e",
   "metadata": {
    "tags": []
   },
   "outputs": [
    {
     "data": {
      "text/html": [
       "<div>\n",
       "<style scoped>\n",
       "    .dataframe tbody tr th:only-of-type {\n",
       "        vertical-align: middle;\n",
       "    }\n",
       "\n",
       "    .dataframe tbody tr th {\n",
       "        vertical-align: top;\n",
       "    }\n",
       "\n",
       "    .dataframe thead th {\n",
       "        text-align: right;\n",
       "    }\n",
       "</style>\n",
       "<table border=\"1\" class=\"dataframe\">\n",
       "  <thead>\n",
       "    <tr style=\"text-align: right;\">\n",
       "      <th></th>\n",
       "      <th>Date</th>\n",
       "      <th>Close</th>\n",
       "    </tr>\n",
       "  </thead>\n",
       "  <tbody>\n",
       "    <tr>\n",
       "      <th>298</th>\n",
       "      <td>2021-12-14 00:00:00+00:00</td>\n",
       "      <td>47022.75</td>\n",
       "    </tr>\n",
       "    <tr>\n",
       "      <th>297</th>\n",
       "      <td>2021-12-14 01:00:00+00:00</td>\n",
       "      <td>46889.47</td>\n",
       "    </tr>\n",
       "    <tr>\n",
       "      <th>296</th>\n",
       "      <td>2021-12-14 02:00:00+00:00</td>\n",
       "      <td>47052.39</td>\n",
       "    </tr>\n",
       "    <tr>\n",
       "      <th>295</th>\n",
       "      <td>2021-12-14 03:00:00+00:00</td>\n",
       "      <td>46977.81</td>\n",
       "    </tr>\n",
       "    <tr>\n",
       "      <th>294</th>\n",
       "      <td>2021-12-14 04:00:00+00:00</td>\n",
       "      <td>47017.01</td>\n",
       "    </tr>\n",
       "    <tr>\n",
       "      <th>...</th>\n",
       "      <td>...</td>\n",
       "      <td>...</td>\n",
       "    </tr>\n",
       "    <tr>\n",
       "      <th>17940</th>\n",
       "      <td>2024-01-09 19:00:00+00:00</td>\n",
       "      <td>46890.10</td>\n",
       "    </tr>\n",
       "    <tr>\n",
       "      <th>17939</th>\n",
       "      <td>2024-01-09 20:00:00+00:00</td>\n",
       "      <td>46651.31</td>\n",
       "    </tr>\n",
       "    <tr>\n",
       "      <th>17938</th>\n",
       "      <td>2024-01-09 21:00:00+00:00</td>\n",
       "      <td>45419.45</td>\n",
       "    </tr>\n",
       "    <tr>\n",
       "      <th>17937</th>\n",
       "      <td>2024-01-09 22:00:00+00:00</td>\n",
       "      <td>46278.06</td>\n",
       "    </tr>\n",
       "    <tr>\n",
       "      <th>17936</th>\n",
       "      <td>2024-01-09 23:00:00+00:00</td>\n",
       "      <td>46124.08</td>\n",
       "    </tr>\n",
       "  </tbody>\n",
       "</table>\n",
       "<p>18168 rows × 2 columns</p>\n",
       "</div>"
      ],
      "text/plain": [
       "                           Date     Close\n",
       "298   2021-12-14 00:00:00+00:00  47022.75\n",
       "297   2021-12-14 01:00:00+00:00  46889.47\n",
       "296   2021-12-14 02:00:00+00:00  47052.39\n",
       "295   2021-12-14 03:00:00+00:00  46977.81\n",
       "294   2021-12-14 04:00:00+00:00  47017.01\n",
       "...                         ...       ...\n",
       "17940 2024-01-09 19:00:00+00:00  46890.10\n",
       "17939 2024-01-09 20:00:00+00:00  46651.31\n",
       "17938 2024-01-09 21:00:00+00:00  45419.45\n",
       "17937 2024-01-09 22:00:00+00:00  46278.06\n",
       "17936 2024-01-09 23:00:00+00:00  46124.08\n",
       "\n",
       "[18168 rows x 2 columns]"
      ]
     },
     "execution_count": 5,
     "metadata": {},
     "output_type": "execute_result"
    }
   ],
   "source": [
    "CleanData = pd.read_parquet(path.TRANSFORMED_DATA_DIR / \"BTC-USD_HourlyTransformedData_From2021-12-14 00:00:00+00:00_To2024-01-09 23:00:00+00:00.parquet\")\n",
    "\n",
    "CleanData"
   ]
  },
  {
   "cell_type": "markdown",
   "id": "b9e36a14-a5cf-499f-9714-7c159b17ed44",
   "metadata": {},
   "source": [
    "# Creating a Table for our Data"
   ]
  },
  {
   "cell_type": "code",
   "execution_count": 6,
   "id": "12f466dd-6c66-4264-ab54-f3688c8af121",
   "metadata": {
    "tags": []
   },
   "outputs": [],
   "source": [
    "cur.execute(f'CREATE TABLE {secrets.MariaDB_TableName} (Date DATETIME PRIMARY KEY NOT NULL, Close DOUBLE)')"
   ]
  },
  {
   "cell_type": "code",
   "execution_count": 7,
   "id": "ded6c4a5-3e9a-48e4-9134-49c48e9726ce",
   "metadata": {
    "tags": []
   },
   "outputs": [],
   "source": [
    "for i in CleanData.values:\n",
    "    cur.execute(\n",
    "    f'INSERT {secrets.MariaDB_TableName} VALUES (?, ?)', \n",
    "    (datetime(i[0].year, i[0].month, i[0].day, i[0].hour, i[0].minute, i[0].second), i[1]))\n",
    "    \n",
    "conn.commit()"
   ]
  },
  {
   "cell_type": "markdown",
   "id": "ab3ceb4e-305a-417d-9f59-d3a4eb9973b4",
   "metadata": {},
   "source": [
    "# Check Data has been Dumped (There are Thousands of Ways to Load a DF, we chosen this one)"
   ]
  },
  {
   "cell_type": "code",
   "execution_count": 8,
   "id": "f69ffb86-a53f-401d-9430-2178e039a846",
   "metadata": {
    "tags": []
   },
   "outputs": [
    {
     "name": "stdout",
     "output_type": "stream",
     "text": [
      "                     Date     Close\n",
      "0     2021-12-14 00:00:00  47022.75\n",
      "1     2021-12-14 01:00:00  46889.47\n",
      "2     2021-12-14 02:00:00  47052.39\n",
      "3     2021-12-14 03:00:00  46977.81\n",
      "4     2021-12-14 04:00:00  47017.01\n",
      "...                   ...       ...\n",
      "18163 2024-01-09 19:00:00  46890.10\n",
      "18164 2024-01-09 20:00:00  46651.31\n",
      "18165 2024-01-09 21:00:00  45419.45\n",
      "18166 2024-01-09 22:00:00  46278.06\n",
      "18167 2024-01-09 23:00:00  46124.08\n",
      "\n",
      "[18168 rows x 2 columns]\n"
     ]
    }
   ],
   "source": [
    "cur.execute(\"SELECT * FROM ClosePricesBTCUSD\")\n",
    "\n",
    "checkdf = pd.DataFrame(data = [x for x in cur], columns = [\"Date\", \"Close\"])\n",
    "\n",
    "print(checkdf)"
   ]
  }
 ],
 "metadata": {
  "kernelspec": {
   "display_name": "btcpricepredictionvenv",
   "language": "python",
   "name": "btcpricepredictionvenv"
  },
  "language_info": {
   "codemirror_mode": {
    "name": "ipython",
    "version": 3
   },
   "file_extension": ".py",
   "mimetype": "text/x-python",
   "name": "python",
   "nbconvert_exporter": "python",
   "pygments_lexer": "ipython3",
   "version": "3.11.2"
  }
 },
 "nbformat": 4,
 "nbformat_minor": 5
}
