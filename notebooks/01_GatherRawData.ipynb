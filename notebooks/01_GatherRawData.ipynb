{
 "cells": [
  {
   "cell_type": "markdown",
   "id": "0f39ce2a-d2de-439e-919e-26701b6cb8e7",
   "metadata": {
    "tags": []
   },
   "source": [
    "# Let's gather some Raw Data from the Source "
   ]
  },
  {
   "cell_type": "markdown",
   "id": "7af2eb35-09ca-438c-8ac4-f96703f353c9",
   "metadata": {
    "tags": []
   },
   "source": [
    "# Import the necessary libraries"
   ]
  },
  {
   "cell_type": "code",
   "execution_count": 1,
   "id": "6a0cccf3-1f36-4e98-a108-3163f515448d",
   "metadata": {
    "tags": []
   },
   "outputs": [],
   "source": [
    "import pandas as pd\n",
    "\n",
    "import requests\n",
    "\n",
    "from datetime import datetime, timedelta, timezone\n",
    "import time\n",
    "import ntplib\n",
    "\n",
    "import sys\n",
    "sys.path.append(\"../scripts/\")\n",
    "import path"
   ]
  },
  {
   "cell_type": "markdown",
   "id": "c64f508d-d978-4891-a93a-594707b223cd",
   "metadata": {
    "tags": []
   },
   "source": [
    "# Getting Curent Date"
   ]
  },
  {
   "cell_type": "code",
   "execution_count": 2,
   "id": "4e201a9a-e9fc-406f-af90-3fc332460bed",
   "metadata": {
    "tags": []
   },
   "outputs": [
    {
     "name": "stdout",
     "output_type": "stream",
     "text": [
      "2024-01-10 23:00:00\n"
     ]
    }
   ],
   "source": [
    "product_id = \"BTC-USD\"\n",
    "\n",
    "#.replace(hour=0, minute=0, second=0) <- Used to make the Time from yesterday at 23, to gather all Data until Yesterday INCLUDED.\n",
    "\n",
    "#On Server with working clock\n",
    "#yesterday = (datetime.now() - timedelta(days=1)).replace(hour=0, minute=0, second=0).strftime(\"%Y-%m-%d %H:%M:%S\")\n",
    "\n",
    "#Getting Actual Data from the Internet for Server with messy clock\n",
    "try:\n",
    "    client = ntplib.NTPClient()\n",
    "    response = client.request('pool.ntp.org')\n",
    "    yesterday = (datetime.fromtimestamp(response.tx_time, tz=timezone.utc) - timedelta(days=1)).replace(hour=23, minute=0, second=0).strftime(\"%Y-%m-%d %H:%M:%S\")\n",
    "    print(yesterday)\n",
    "\n",
    "except:\n",
    "    print(\"Could not sync with time server.\")"
   ]
  },
  {
   "cell_type": "markdown",
   "id": "422beb4f-9b0f-455b-8977-407e25d65ac1",
   "metadata": {
    "tags": []
   },
   "source": [
    "# Fetching Hourly historical Data from 2 years ago to yesterday (fetch as much as you want)"
   ]
  },
  {
   "cell_type": "markdown",
   "id": "f4f9dbc1-8992-498c-b3fa-4dadd9dbd710",
   "metadata": {},
   "source": [
    "# INFO about the WebAPI EndPoint\n",
    "\n",
    "- Historical rate data may be incomplete.\n",
    "- No data is published for intervals where there are no ticks. \n",
    "- Historical rates should not be polled frequently. \n",
    "- If you need real-time information, use the trade and book endpoints along with the WebSocket feed."
   ]
  },
  {
   "cell_type": "code",
   "execution_count": 3,
   "id": "a4c9de69-ef8f-4c6c-921f-4e512c752164",
   "metadata": {
    "tags": []
   },
   "outputs": [],
   "source": [
    "#We can't fetch from the websocket more than a total combined 300 Candles.\n",
    "#Granularity is in seconds, so for example, no more than 300 hours.\n",
    "#Data is returned as a List of Lists, where each list is a Candle, with the Format [Time, Open, High, Low, Close, Volume]\n",
    "#Values are Returned in DESCENDING Order, Last Record is First in the List.\n",
    "#Time is in UTC format."
   ]
  },
  {
   "cell_type": "code",
   "execution_count": 4,
   "id": "40aee6e7-1dbc-42e8-bf73-ff666639782c",
   "metadata": {
    "tags": []
   },
   "outputs": [],
   "source": [
    "RawTempList = []"
   ]
  },
  {
   "cell_type": "code",
   "execution_count": 5,
   "id": "8d160c05-7510-4788-8a31-4774140e60de",
   "metadata": {
    "tags": []
   },
   "outputs": [],
   "source": [
    "#Setting the Start Hour at Midnight and double checking on EndDate\n",
    "startdate = (datetime.strptime(yesterday, \"%Y-%m-%d %H:%M:%S\") - timedelta(weeks=108)).replace(hour=0, minute=0, second=0)\n",
    "enddate = datetime.strptime(yesterday, \"%Y-%m-%d %H:%M:%S\").replace(hour=23, minute=0, second=0)\n",
    "\n",
    "while startdate < enddate:    \n",
    "    tempfetchenddate = startdate + timedelta(hours=299) #Let's Keep a Reserve of 2 Candles since it goes from start to end included\n",
    "    \n",
    "    if tempfetchenddate >= enddate:\n",
    "        tempfetchenddate = enddate\n",
    "    \n",
    "    #Fetch\n",
    "    \n",
    "    URL = f'https://api.exchange.coinbase.com/products/{product_id}/candles?start={startdate}&end={tempfetchenddate}&granularity=3600'\n",
    "    r = requests.get(URL)\n",
    "    data = r.json()\n",
    "    \n",
    "    RawTempList.extend(data)\n",
    "    \n",
    "    startdate = tempfetchenddate  "
   ]
  },
  {
   "cell_type": "code",
   "execution_count": 6,
   "id": "44f99c3b-cf0d-4b31-b65a-42fb46ad122b",
   "metadata": {
    "tags": []
   },
   "outputs": [],
   "source": [
    "RawData = pd.DataFrame(RawTempList, columns = [\"Date\", \"Open\", \"High\", \"Low\", \"Close\", \"Volume\"])\n",
    "\n",
    "#RawTempList"
   ]
  },
  {
   "cell_type": "code",
   "execution_count": 7,
   "id": "6eeb5ec1-cb13-4971-b7cd-97c466068b04",
   "metadata": {
    "tags": []
   },
   "outputs": [],
   "source": [
    "#Ensuring UTC Awareness by setting UTC Timezone\n",
    "\n",
    "RawData[\"Date\"] = RawData[\"Date\"].apply(lambda x: datetime.fromtimestamp(x, tz= timezone.utc))"
   ]
  },
  {
   "cell_type": "code",
   "execution_count": 8,
   "id": "79183bed-d868-43eb-84a4-cf8a006a270e",
   "metadata": {
    "tags": []
   },
   "outputs": [
    {
     "data": {
      "text/html": [
       "<div>\n",
       "<style scoped>\n",
       "    .dataframe tbody tr th:only-of-type {\n",
       "        vertical-align: middle;\n",
       "    }\n",
       "\n",
       "    .dataframe tbody tr th {\n",
       "        vertical-align: top;\n",
       "    }\n",
       "\n",
       "    .dataframe thead th {\n",
       "        text-align: right;\n",
       "    }\n",
       "</style>\n",
       "<table border=\"1\" class=\"dataframe\">\n",
       "  <thead>\n",
       "    <tr style=\"text-align: right;\">\n",
       "      <th></th>\n",
       "      <th>Date</th>\n",
       "      <th>Open</th>\n",
       "      <th>High</th>\n",
       "      <th>Low</th>\n",
       "      <th>Close</th>\n",
       "      <th>Volume</th>\n",
       "    </tr>\n",
       "  </thead>\n",
       "  <tbody>\n",
       "    <tr>\n",
       "      <th>299</th>\n",
       "      <td>2021-12-15 00:00:00+00:00</td>\n",
       "      <td>48080.23</td>\n",
       "      <td>48795.00</td>\n",
       "      <td>48359.23</td>\n",
       "      <td>48150.08</td>\n",
       "      <td>843.040672</td>\n",
       "    </tr>\n",
       "    <tr>\n",
       "      <th>298</th>\n",
       "      <td>2021-12-15 01:00:00+00:00</td>\n",
       "      <td>47973.15</td>\n",
       "      <td>48189.99</td>\n",
       "      <td>48150.08</td>\n",
       "      <td>48087.19</td>\n",
       "      <td>385.411999</td>\n",
       "    </tr>\n",
       "    <tr>\n",
       "      <th>297</th>\n",
       "      <td>2021-12-15 02:00:00+00:00</td>\n",
       "      <td>47847.34</td>\n",
       "      <td>48110.89</td>\n",
       "      <td>48087.18</td>\n",
       "      <td>48010.17</td>\n",
       "      <td>343.643550</td>\n",
       "    </tr>\n",
       "    <tr>\n",
       "      <th>296</th>\n",
       "      <td>2021-12-15 03:00:00+00:00</td>\n",
       "      <td>47898.93</td>\n",
       "      <td>48312.39</td>\n",
       "      <td>48009.53</td>\n",
       "      <td>48287.73</td>\n",
       "      <td>408.427606</td>\n",
       "    </tr>\n",
       "    <tr>\n",
       "      <th>295</th>\n",
       "      <td>2021-12-15 04:00:00+00:00</td>\n",
       "      <td>48096.95</td>\n",
       "      <td>48449.35</td>\n",
       "      <td>48286.34</td>\n",
       "      <td>48259.78</td>\n",
       "      <td>320.162218</td>\n",
       "    </tr>\n",
       "    <tr>\n",
       "      <th>...</th>\n",
       "      <td>...</td>\n",
       "      <td>...</td>\n",
       "      <td>...</td>\n",
       "      <td>...</td>\n",
       "      <td>...</td>\n",
       "      <td>...</td>\n",
       "    </tr>\n",
       "    <tr>\n",
       "      <th>18000</th>\n",
       "      <td>2024-01-10 19:00:00+00:00</td>\n",
       "      <td>46096.54</td>\n",
       "      <td>46755.73</td>\n",
       "      <td>46554.77</td>\n",
       "      <td>46518.14</td>\n",
       "      <td>1766.961272</td>\n",
       "    </tr>\n",
       "    <tr>\n",
       "      <th>17999</th>\n",
       "      <td>2024-01-10 20:00:00+00:00</td>\n",
       "      <td>44813.00</td>\n",
       "      <td>46538.97</td>\n",
       "      <td>46514.45</td>\n",
       "      <td>46144.39</td>\n",
       "      <td>5815.951710</td>\n",
       "    </tr>\n",
       "    <tr>\n",
       "      <th>17998</th>\n",
       "      <td>2024-01-10 21:00:00+00:00</td>\n",
       "      <td>45129.54</td>\n",
       "      <td>46343.62</td>\n",
       "      <td>46144.91</td>\n",
       "      <td>45946.36</td>\n",
       "      <td>4362.896827</td>\n",
       "    </tr>\n",
       "    <tr>\n",
       "      <th>17997</th>\n",
       "      <td>2024-01-10 22:00:00+00:00</td>\n",
       "      <td>45765.68</td>\n",
       "      <td>46976.99</td>\n",
       "      <td>45954.81</td>\n",
       "      <td>46928.33</td>\n",
       "      <td>2569.365343</td>\n",
       "    </tr>\n",
       "    <tr>\n",
       "      <th>17996</th>\n",
       "      <td>2024-01-10 23:00:00+00:00</td>\n",
       "      <td>46413.58</td>\n",
       "      <td>47732.50</td>\n",
       "      <td>46928.33</td>\n",
       "      <td>46666.11</td>\n",
       "      <td>3103.350227</td>\n",
       "    </tr>\n",
       "  </tbody>\n",
       "</table>\n",
       "<p>18224 rows × 6 columns</p>\n",
       "</div>"
      ],
      "text/plain": [
       "                           Date      Open      High       Low     Close  \\\n",
       "299   2021-12-15 00:00:00+00:00  48080.23  48795.00  48359.23  48150.08   \n",
       "298   2021-12-15 01:00:00+00:00  47973.15  48189.99  48150.08  48087.19   \n",
       "297   2021-12-15 02:00:00+00:00  47847.34  48110.89  48087.18  48010.17   \n",
       "296   2021-12-15 03:00:00+00:00  47898.93  48312.39  48009.53  48287.73   \n",
       "295   2021-12-15 04:00:00+00:00  48096.95  48449.35  48286.34  48259.78   \n",
       "...                         ...       ...       ...       ...       ...   \n",
       "18000 2024-01-10 19:00:00+00:00  46096.54  46755.73  46554.77  46518.14   \n",
       "17999 2024-01-10 20:00:00+00:00  44813.00  46538.97  46514.45  46144.39   \n",
       "17998 2024-01-10 21:00:00+00:00  45129.54  46343.62  46144.91  45946.36   \n",
       "17997 2024-01-10 22:00:00+00:00  45765.68  46976.99  45954.81  46928.33   \n",
       "17996 2024-01-10 23:00:00+00:00  46413.58  47732.50  46928.33  46666.11   \n",
       "\n",
       "            Volume  \n",
       "299     843.040672  \n",
       "298     385.411999  \n",
       "297     343.643550  \n",
       "296     408.427606  \n",
       "295     320.162218  \n",
       "...            ...  \n",
       "18000  1766.961272  \n",
       "17999  5815.951710  \n",
       "17998  4362.896827  \n",
       "17997  2569.365343  \n",
       "17996  3103.350227  \n",
       "\n",
       "[18224 rows x 6 columns]"
      ]
     },
     "execution_count": 8,
     "metadata": {},
     "output_type": "execute_result"
    }
   ],
   "source": [
    "RawData = RawData.sort_values(by=[\"Date\"])\n",
    "\n",
    "RawData"
   ]
  },
  {
   "cell_type": "markdown",
   "id": "c20b7cfe-0619-4d13-b60d-23b45fd32495",
   "metadata": {},
   "source": [
    "# Dump Raw Data to Disk"
   ]
  },
  {
   "cell_type": "code",
   "execution_count": 9,
   "id": "279f2d41-30d2-4457-8e5c-1bf85829c643",
   "metadata": {},
   "outputs": [],
   "source": [
    "start = (datetime.strptime(yesterday, \"%Y-%m-%d %H:%M:%S\") - timedelta(weeks=108)).replace(hour=0, minute=0, second=0)\n",
    "finish = (datetime.strptime(yesterday, \"%Y-%m-%d %H:%M:%S\")).replace(hour=23, minute=0, second=0)\n",
    "\n",
    "RawData.to_parquet(path.RAW_DATA_DIR / f'{product_id}_HourlyRawData_From{start}_To{yesterday}.parquet')"
   ]
  }
 ],
 "metadata": {
  "kernelspec": {
   "display_name": "btcpricepredictionvenv",
   "language": "python",
   "name": "btcpricepredictionvenv"
  },
  "language_info": {
   "codemirror_mode": {
    "name": "ipython",
    "version": 3
   },
   "file_extension": ".py",
   "mimetype": "text/x-python",
   "name": "python",
   "nbconvert_exporter": "python",
   "pygments_lexer": "ipython3",
   "version": "3.11.2"
  }
 },
 "nbformat": 4,
 "nbformat_minor": 5
}
