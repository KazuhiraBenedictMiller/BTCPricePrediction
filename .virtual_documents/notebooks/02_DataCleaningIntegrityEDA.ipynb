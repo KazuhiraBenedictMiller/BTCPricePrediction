#Let's Check Data Consistency and see if there are any Missing Values or Inconsistencies


import pandas as pd

import requests

from datetime import datetime, timedelta, timezone
import time
import ntplib

import sys
sys.path.append("../scripts/")
import path


#.replace(hour=0, minute=0, second=0) <- Used to make the Time from yesterday at 23, to gather all Data until Yesterday INCLUDED.

#On Server with working clock
#yesterday = (datetime.now() - timedelta(days=1)).replace(hour=0, minute=0, second=0).strftime("%Y-%m-%d %H:%M:%S")

#Getting Actual Data from the Internet for Server with messy clock
try:
    client = ntplib.NTPClient()
    response = client.request('pool.ntp.org')
    yesterday = (datetime.fromtimestamp(response.tx_time, tz=timezone.utc) - timedelta(days=1)).replace(hour=23, minute=0, second=0).strftime("%Y-%m-%d %H:%M:%S")
    print(yesterday)

except:
    print("Could not sync with time server.")


startdate = (datetime.strptime(yesterday, "%Y-%m-%d %H:%M:%S") - timedelta(weeks=108)).replace(hour=0, minute=0, second=0)
enddate = datetime.strptime(yesterday, "%Y-%m-%d %H:%M:%S").replace(hour=23, minute=0, second=0)


RawData = pd.read_parquet(path.RAW_DATA_DIR / "BTC-USD_HourlyRawData_From2021-12-14 00:00:00_To2024-01-09 23:00:00.parquet")

RawData


#Cloning the DF for transformations

TransformedData = RawData.copy()


#Docs at https://docs.cloud.coinbase.com/exchange/reference/exchangerestapi_getproductcandles


print(startdate.replace(tzinfo=timezone.utc) == TransformedData["Date"].iloc[0])
print(enddate.replace(tzinfo=timezone.utc) == TransformedData["Date"].iloc[-1])


Duplicates = TransformedData.loc[TransformedData.duplicated() == True]
Duplicates

print(Duplicates["Date"])


print(f'At Net of Duplicates the Len of the Records is: {len(RawData) - len(RawData.loc[RawData.duplicated() == True])}')


#Removing Duplicates

TransformedData.drop_duplicates(keep="first", inplace = True)
TransformedData


diff = enddate - startdate

print(f'Total Hours Elapsed (Expected Num of Candles): {diff.total_seconds() //3600 + 1}') # +1 as the last Candle is Included


print(f'Number of Missing Candles: {(diff.total_seconds() //3600) + 1 - len(TransformedData)}')


Dates = list(TransformedData["Date"])
Missing = []

testdate = Dates[0]

while testdate <= Dates[-1]:
    print(testdate)
    if testdate not in Dates:
        Missing.append(testdate)
        
    testdate += timedelta(hours=1)


Missing


RecordToCopy = TransformedData[TransformedData["Date"] == Missing[0] - timedelta(hours=1)]


templist = [[x, RecordToCopy.iloc[0]["Close"], RecordToCopy.iloc[0]["Close"], RecordToCopy.iloc[0]["Close"], RecordToCopy.iloc[0]["Close"],RecordToCopy.iloc[0]["Volume"]] for x in Missing]
tempdf = pd.DataFrame(templist, columns=["Date", "Open", "High", "Low", "Close", "Volume"])

TransformedData = pd.concat([TransformedData, tempdf])


TransformedData


#Sort Again for new Values

TransformedData





data1 = datetime.datetime.now()
data2 = datetime.datetime.now()

diff = data2 - data1

days, seconds = diff.days, diff.seconds
hours = days * 24 + seconds // 3600
minutes = (seconds % 3600) // 60
seconds = seconds % 60

print hours,minutes,seconds


#Let's Check Data Consistency and see if there are any Missing Values or Inconsistencies


# EDA, Data Wrangling and Cleaning
