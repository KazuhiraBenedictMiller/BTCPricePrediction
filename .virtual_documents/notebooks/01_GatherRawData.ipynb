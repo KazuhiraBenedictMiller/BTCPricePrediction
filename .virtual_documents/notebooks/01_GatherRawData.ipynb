import pandas as pd

import requests

from datetime import datetime, timedelta, timezone
import time
import ntplib

import sys
sys.path.append("../scripts/")
import path


product_id = "BTC-USD"

#.replace(hour=0, minute=0, second=0) <- Used to make the Time from yesterday at 23, to gather all Data until Yesterday INCLUDED.

#On Server with working clock
#yesterday = (datetime.now() - timedelta(days=1)).replace(hour=0, minute=0, second=0).strftime("%Y-%m-%d %H:%M:%S")

#Getting Actual Data from the Internet for Server with messy clock
try:
    client = ntplib.NTPClient()
    response = client.request('pool.ntp.org')
    yesterday = (datetime.fromtimestamp(response.tx_time, tz=timezone.utc) - timedelta(days=1)).replace(hour=23, minute=0, second=0).strftime("%Y-%m-%d %H:%M:%S")
    print(yesterday)

except:
    print("Could not sync with time server.")


#We can't fetch from the websocket more than a total combined 300 Candles.
#Granularity is in seconds, so for example, no more than 300 hours.
#Data is returned as a List of Lists, where each list is a Candle, with the Format [Time, Open, High, Low, Close, Volume]
#Values are Returned in DESCENDING Order, Last Record is First in the List.
#Time is in UTC format.


RawTempList = []


#Setting the Start Hour at Midnight and double checking on EndDate
startdate = (datetime.strptime(yesterday, "%Y-%m-%d %H:%M:%S") - timedelta(weeks=108)).replace(hour=0, minute=0, second=0)
enddate = datetime.strptime(yesterday, "%Y-%m-%d %H:%M:%S").replace(hour=23, minute=0, second=0)

while startdate < enddate:    
    tempfetchenddate = startdate + timedelta(hours=299) #Let's Keep a Reserve of 2 Candles since it goes from start to end included
    
    if tempfetchenddate >= enddate:
        tempfetchenddate = enddate
    
    #Fetch
    
    URL = f'https://api.exchange.coinbase.com/products/{product_id}/candles?start={startdate}&end={tempfetchenddate}&granularity=3600'
    r = requests.get(URL)
    data = r.json()
    
    RawTempList.extend(data)
    
    startdate = tempfetchenddate  


RawData = pd.DataFrame(RawTempList, columns = ["Date", "Open", "High", "Low", "Close", "Volume"])

#RawTempList


#Ensuring UTC Awareness by setting UTC Timezone

RawData["Date"] = RawData["Date"].apply(lambda x: datetime.fromtimestamp(x, tz= timezone.utc))


RawData = RawData.sort_values(by=["Date"])

RawData


start = (datetime.strptime(yesterday, "%Y-%m-%d %H:%M:%S") - timedelta(weeks=108)).replace(hour=0, minute=0, second=0)
finish = (datetime.strptime(yesterday, "%Y-%m-%d %H:%M:%S")).replace(hour=23, minute=0, second=0)

RawData.to_parquet(path.RAW_DATA_DIR / f'{product_id}_HourlyRawData_From{start}_To{yesterday}.parquet')
