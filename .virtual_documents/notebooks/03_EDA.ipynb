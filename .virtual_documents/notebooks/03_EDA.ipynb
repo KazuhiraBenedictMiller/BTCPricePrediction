#Let's build a simple interactive Line Chart for our Cleaned Data


import pandas as pd

import sys
sys.path.append("../scripts/")
import path


CleanData = pd.read_parquet(path.TRANSFORMED_DATA_DIR / "BTC-USD_HourlyTransformedData_From2021-12-14 00:00:00+00:00_To2024-01-09 23:00:00+00:00.parquet")

CleanData


from bokeh.plotting import figure, show
from bokeh.io import output_notebook


output_notebook()
p = figure(title="BTC-USD Price Chart", x_axis_label='Date', x_axis_type="datetime", y_axis_label='Hourly plot_width=1000,Close Price', width=1300)


p.line(CleanData["Date"], CleanData["Close"], legend_label="BTC-USD", line_width=2, color="black")


show(p)
